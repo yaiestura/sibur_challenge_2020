{
 "cells": [
  {
   "cell_type": "code",
   "execution_count": 1,
   "metadata": {},
   "outputs": [],
   "source": [
    "import pandas as pd\n",
    "import numpy as np\n",
    "\n",
    "import matplotlib.pyplot as plt\n",
    "import seaborn as sns\n",
    "\n",
    "from sklearn.metrics import classification_report, f1_score\n",
    "from sklearn.model_selection import StratifiedShuffleSplit\n",
    "from sklearn.ensemble import RandomForestClassifier\n",
    "from sklearn.linear_model import LogisticRegression\n",
    "\n",
    "import pycountry\n",
    "import re\n",
    "\n",
    "from tqdm.notebook import tqdm\n",
    "tqdm.pandas()\n",
    "\n",
    "from cdifflib import CSequenceMatcher\n",
    "\n",
    "from collections import Counter\n",
    "import nltk\n",
    "\n",
    "import warnings\n",
    "warnings.filterwarnings('ignore')\n",
    "\n",
    "%matplotlib inline"
   ]
  },
  {
   "cell_type": "code",
   "execution_count": 2,
   "metadata": {},
   "outputs": [],
   "source": [
    "train = pd.read_csv('data/train.csv', index_col='pair_id')\n",
    "test = pd.read_csv('data/test.csv', index_col='pair_id')"
   ]
  },
  {
   "cell_type": "code",
   "execution_count": 3,
   "metadata": {},
   "outputs": [
    {
     "data": {
      "text/html": [
       "<div>\n",
       "<style scoped>\n",
       "    .dataframe tbody tr th:only-of-type {\n",
       "        vertical-align: middle;\n",
       "    }\n",
       "\n",
       "    .dataframe tbody tr th {\n",
       "        vertical-align: top;\n",
       "    }\n",
       "\n",
       "    .dataframe thead th {\n",
       "        text-align: right;\n",
       "    }\n",
       "</style>\n",
       "<table border=\"1\" class=\"dataframe\">\n",
       "  <thead>\n",
       "    <tr style=\"text-align: right;\">\n",
       "      <th></th>\n",
       "      <th>name_1</th>\n",
       "      <th>name_2</th>\n",
       "      <th>is_duplicate</th>\n",
       "    </tr>\n",
       "    <tr>\n",
       "      <th>pair_id</th>\n",
       "      <th></th>\n",
       "      <th></th>\n",
       "      <th></th>\n",
       "    </tr>\n",
       "  </thead>\n",
       "  <tbody>\n",
       "    <tr>\n",
       "      <th>0</th>\n",
       "      <td>Iko Industries Ltd.</td>\n",
       "      <td>Enormous Industrial Trade Pvt., Ltd.</td>\n",
       "      <td>0</td>\n",
       "    </tr>\n",
       "    <tr>\n",
       "      <th>1</th>\n",
       "      <td>Apcotex Industries Ltd.</td>\n",
       "      <td>Technocraft Industries (India) Ltd.</td>\n",
       "      <td>0</td>\n",
       "    </tr>\n",
       "    <tr>\n",
       "      <th>2</th>\n",
       "      <td>Tress A/S</td>\n",
       "      <td>Longyou Industries Park Zhejiang</td>\n",
       "      <td>0</td>\n",
       "    </tr>\n",
       "    <tr>\n",
       "      <th>3</th>\n",
       "      <td>Wpt Mexico Sa De Cv</td>\n",
       "      <td>Hopkins Mfg. De Mexico S De Rl De Cv</td>\n",
       "      <td>0</td>\n",
       "    </tr>\n",
       "    <tr>\n",
       "      <th>4</th>\n",
       "      <td>National Bank Of</td>\n",
       "      <td>Action International</td>\n",
       "      <td>0</td>\n",
       "    </tr>\n",
       "  </tbody>\n",
       "</table>\n",
       "</div>"
      ],
      "text/plain": [
       "                          name_1                                name_2  \\\n",
       "pair_id                                                                  \n",
       "0            Iko Industries Ltd.  Enormous Industrial Trade Pvt., Ltd.   \n",
       "1        Apcotex Industries Ltd.   Technocraft Industries (India) Ltd.   \n",
       "2                      Tress A/S      Longyou Industries Park Zhejiang   \n",
       "3            Wpt Mexico Sa De Cv  Hopkins Mfg. De Mexico S De Rl De Cv   \n",
       "4               National Bank Of                  Action International   \n",
       "\n",
       "         is_duplicate  \n",
       "pair_id                \n",
       "0                   0  \n",
       "1                   0  \n",
       "2                   0  \n",
       "3                   0  \n",
       "4                   0  "
      ]
     },
     "execution_count": 3,
     "metadata": {},
     "output_type": "execute_result"
    }
   ],
   "source": [
    "train.head()"
   ]
  },
  {
   "cell_type": "markdown",
   "metadata": {},
   "source": [
    "## Dataset Initial EDA"
   ]
  },
  {
   "cell_type": "code",
   "execution_count": 4,
   "metadata": {},
   "outputs": [
    {
     "data": {
      "text/plain": [
       "0    455742\n",
       "1      3708\n",
       "Name: is_duplicate, dtype: int64"
      ]
     },
     "execution_count": 4,
     "metadata": {},
     "output_type": "execute_result"
    }
   ],
   "source": [
    "train.is_duplicate.value_counts()"
   ]
  },
  {
   "cell_type": "code",
   "execution_count": 5,
   "metadata": {},
   "outputs": [
    {
     "data": {
      "image/png": "[encoded data removed]",
      "text/plain": [
       "<Figure size 432x288 with 1 Axes>"
      ]
     },
     "metadata": {},
     "output_type": "display_data"
    }
   ],
   "source": [
    "train.is_duplicate.value_counts().plot(kind='pie', label='Duplicates',\n",
    "                                       autopct='%.3f%%', pctdistance=1.4, labeldistance=1.05)\n",
    "plt.legend()\n",
    "plt.axis('equal')\n",
    "plt.show()"
   ]
  },
  {
   "cell_type": "markdown",
   "metadata": {},
   "source": [
    "Data in train dataset is too imbalanced, thus it is necessary to either use weighted loss functions, to do over(under)sampling or use NLP data augmentation techniques"
   ]
  },
  {
   "cell_type": "code",
   "execution_count": 6,
   "metadata": {},
   "outputs": [],
   "source": [
    "simmilar = train[train.is_duplicate==1]\n",
    "diff = train[train.is_duplicate==1]"
   ]
  },
  {
   "cell_type": "code",
   "execution_count": 7,
   "metadata": {},
   "outputs": [
    {
     "data": {
      "text/html": [
       "<div>\n",
       "<style scoped>\n",
       "    .dataframe tbody tr th:only-of-type {\n",
       "        vertical-align: middle;\n",
       "    }\n",
       "\n",
       "    .dataframe tbody tr th {\n",
       "        vertical-align: top;\n",
       "    }\n",
       "\n",
       "    .dataframe thead th {\n",
       "        text-align: right;\n",
       "    }\n",
       "</style>\n",
       "<table border=\"1\" class=\"dataframe\">\n",
       "  <thead>\n",
       "    <tr style=\"text-align: right;\">\n",
       "      <th></th>\n",
       "      <th>name_1</th>\n",
       "      <th>name_2</th>\n",
       "      <th>is_duplicate</th>\n",
       "    </tr>\n",
       "    <tr>\n",
       "      <th>pair_id</th>\n",
       "      <th></th>\n",
       "      <th></th>\n",
       "      <th></th>\n",
       "    </tr>\n",
       "  </thead>\n",
       "  <tbody>\n",
       "    <tr>\n",
       "      <th>144</th>\n",
       "      <td>JX Nippon Oil &amp; Gas Exploration (Brasil) Ltda</td>\n",
       "      <td>JX Nippon Oil &amp; Gas Exploration Technical Serv...</td>\n",
       "      <td>1</td>\n",
       "    </tr>\n",
       "    <tr>\n",
       "      <th>560</th>\n",
       "      <td>Pirelli Neumaticos S.A.I.C.</td>\n",
       "      <td>Pirelli Tyre Co., Ltd.</td>\n",
       "      <td>1</td>\n",
       "    </tr>\n",
       "    <tr>\n",
       "      <th>774</th>\n",
       "      <td>Brenntag Australia (Pty) Ltd.</td>\n",
       "      <td>Brenntag Group</td>\n",
       "      <td>1</td>\n",
       "    </tr>\n",
       "    <tr>\n",
       "      <th>1230</th>\n",
       "      <td>PAUL BAUDER GMBH &amp; CO KG, BOCHUM PLANT</td>\n",
       "      <td>Paul Bauder ag</td>\n",
       "      <td>1</td>\n",
       "    </tr>\n",
       "    <tr>\n",
       "      <th>1445</th>\n",
       "      <td>TOTAL CESKA REPUBLIKA s.r.o.</td>\n",
       "      <td>TOTAL FRANCE (ARNAY LE DUC)</td>\n",
       "      <td>1</td>\n",
       "    </tr>\n",
       "    <tr>\n",
       "      <th>...</th>\n",
       "      <td>...</td>\n",
       "      <td>...</td>\n",
       "      <td>...</td>\n",
       "    </tr>\n",
       "    <tr>\n",
       "      <th>458469</th>\n",
       "      <td>Arlanxeo International Group</td>\n",
       "      <td>Arlanxeo Corp.</td>\n",
       "      <td>1</td>\n",
       "    </tr>\n",
       "    <tr>\n",
       "      <th>458706</th>\n",
       "      <td>Brenntag Peru S.A.C.</td>\n",
       "      <td>Brenntag Chile Comercial E Industrial Ltda</td>\n",
       "      <td>1</td>\n",
       "    </tr>\n",
       "    <tr>\n",
       "      <th>458769</th>\n",
       "      <td>Dow Chemical International Private Ltd.</td>\n",
       "      <td>Dow Chemical Pacific</td>\n",
       "      <td>1</td>\n",
       "    </tr>\n",
       "    <tr>\n",
       "      <th>458856</th>\n",
       "      <td>Ctbc Bank Co., Ltd. Ho Chi Minh City</td>\n",
       "      <td>Ctbc Bank Co., Ltd. Ho Chi Minh City B</td>\n",
       "      <td>1</td>\n",
       "    </tr>\n",
       "    <tr>\n",
       "      <th>459249</th>\n",
       "      <td>Bridgestone （Huizhou）Synthetic Rubber Co., Ltd.</td>\n",
       "      <td>Bridgestone International Group</td>\n",
       "      <td>1</td>\n",
       "    </tr>\n",
       "  </tbody>\n",
       "</table>\n",
       "<p>3708 rows × 3 columns</p>\n",
       "</div>"
      ],
      "text/plain": [
       "                                                  name_1  \\\n",
       "pair_id                                                    \n",
       "144        JX Nippon Oil & Gas Exploration (Brasil) Ltda   \n",
       "560                          Pirelli Neumaticos S.A.I.C.   \n",
       "774                        Brenntag Australia (Pty) Ltd.   \n",
       "1230              PAUL BAUDER GMBH & CO KG, BOCHUM PLANT   \n",
       "1445                        TOTAL CESKA REPUBLIKA s.r.o.   \n",
       "...                                                  ...   \n",
       "458469                      Arlanxeo International Group   \n",
       "458706                              Brenntag Peru S.A.C.   \n",
       "458769           Dow Chemical International Private Ltd.   \n",
       "458856              Ctbc Bank Co., Ltd. Ho Chi Minh City   \n",
       "459249   Bridgestone （Huizhou）Synthetic Rubber Co., Ltd.   \n",
       "\n",
       "                                                    name_2  is_duplicate  \n",
       "pair_id                                                                   \n",
       "144      JX Nippon Oil & Gas Exploration Technical Serv...             1  \n",
       "560                                 Pirelli Tyre Co., Ltd.             1  \n",
       "774                                         Brenntag Group             1  \n",
       "1230                                        Paul Bauder ag             1  \n",
       "1445                           TOTAL FRANCE (ARNAY LE DUC)             1  \n",
       "...                                                    ...           ...  \n",
       "458469                                      Arlanxeo Corp.             1  \n",
       "458706          Brenntag Chile Comercial E Industrial Ltda             1  \n",
       "458769                                Dow Chemical Pacific             1  \n",
       "458856              Ctbc Bank Co., Ltd. Ho Chi Minh City B             1  \n",
       "459249                     Bridgestone International Group             1  \n",
       "\n",
       "[3708 rows x 3 columns]"
      ]
     },
     "execution_count": 7,
     "metadata": {},
     "output_type": "execute_result"
    }
   ],
   "source": [
    "simmilar"
   ]
  },
  {
   "cell_type": "markdown",
   "metadata": {},
   "source": [
    "Let us look at top of frequent words in our test dataset, we're seeing mostly legal entities, stopwords, or excess words without any additional information to string duplicate classification algorithms"
   ]
  },
  {
   "cell_type": "code",
   "execution_count": 8,
   "metadata": {},
   "outputs": [
    {
     "name": "stdout",
     "output_type": "stream",
     "text": [
      "               Frequency\n",
      "Word                    \n",
      "ltd.               58732\n",
      "co.,               24985\n",
      "international      21088\n",
      "inc.               21041\n",
      "de                 19397\n",
      "industries         14423\n",
      "trading            12014\n",
      "logistics          11142\n",
      "&                  10933\n",
      "rubber              8540\n"
     ]
    },
    {
     "data": {
      "text/plain": [
       "<AxesSubplot:xlabel='Word'>"
      ]
     },
     "execution_count": 8,
     "metadata": {},
     "output_type": "execute_result"
    },
    {
     "data": {
      "image/png": "[encoded data removed]",
      "text/plain": [
       "<Figure size 1152x720 with 1 Axes>"
      ]
     },
     "metadata": {
      "needs_background": "light"
     },
     "output_type": "display_data"
    }
   ],
   "source": [
    "top_N = 10\n",
    "\n",
    "stopwords = nltk.corpus.stopwords.words('english')\n",
    "\n",
    "RE_stopwords = r'\\b(?:{})\\b'.format('|'.join(stopwords))\n",
    "\n",
    "words = (test.name_1\n",
    "           .str.lower()\n",
    "           .replace([r'\\|', RE_stopwords], [' ', ''], regex=True)\n",
    "           .str.cat(sep=' ')\n",
    "           .split()\n",
    ")\n",
    "\n",
    "# generate DF out of Counter\n",
    "rslt = pd.DataFrame(Counter(words).most_common(top_N),\n",
    "                    columns=['Word', 'Frequency']).set_index('Word')\n",
    "print(rslt)\n",
    "\n",
    "# plot\n",
    "rslt.plot.bar(rot=0, figsize=(16,10), width=0.8)"
   ]
  },
  {
   "cell_type": "markdown",
   "metadata": {},
   "source": [
    "## Possible ideas for improving baseline\n",
    "\n",
    "- thorough data cleaning and preprocessing\n",
    "- balance classes, weighted loss function, oversampling, undersampling\n",
    "- text data augmentation\n",
    "- tfidf, countvectorizer, doc2vec, word2vec\n",
    "- add another similarity metrics: levenshtein, jaccard, jaro winkler, n-gram, etc\n",
    "\n",
    "\n",
    "- binary feature: whether one title contains all the words of another\n",
    "- numeric feature: the number of matching first vowels, consonants\n",
    "- numeric feature: the number of matching first letters of the abbreviation\n",
    "- numeric feature: percentage of intersecting ngrams\n",
    "- numeric feature: the number of matching first letters of each word (take the maximum)\n",
    "- numeric feature: number of letters of the first, number of letters of the second\n",
    "- numeric feature: the number of words of the first, the number of the second\n"
   ]
  },
  {
   "cell_type": "markdown",
   "metadata": {},
   "source": [
    "## Data Cleaning"
   ]
  },
  {
   "cell_type": "markdown",
   "metadata": {},
   "source": [
    "#### 1. Strings to lowercase"
   ]
  },
  {
   "cell_type": "code",
   "execution_count": 9,
   "metadata": {},
   "outputs": [],
   "source": [
    "train.name_1 = train.name_1.str.lower()\n",
    "train.name_2 = train.name_2.str.lower()\n",
    "train.name_1 = train.name_1.str.strip()\n",
    "train.name_2 = train.name_2.str.strip()\n",
    "\n",
    "test.name_1 = test.name_1.str.lower()\n",
    "test.name_2 = test.name_2.str.lower()\n",
    "test.name_1 = test.name_1.str.strip()\n",
    "test.name_2 = test.name_2.str.strip()"
   ]
  },
  {
   "cell_type": "code",
   "execution_count": 10,
   "metadata": {},
   "outputs": [
    {
     "data": {
      "text/html": [
       "<div>\n",
       "<style scoped>\n",
       "    .dataframe tbody tr th:only-of-type {\n",
       "        vertical-align: middle;\n",
       "    }\n",
       "\n",
       "    .dataframe tbody tr th {\n",
       "        vertical-align: top;\n",
       "    }\n",
       "\n",
       "    .dataframe thead th {\n",
       "        text-align: right;\n",
       "    }\n",
       "</style>\n",
       "<table border=\"1\" class=\"dataframe\">\n",
       "  <thead>\n",
       "    <tr style=\"text-align: right;\">\n",
       "      <th></th>\n",
       "      <th>name_1</th>\n",
       "      <th>name_2</th>\n",
       "      <th>is_duplicate</th>\n",
       "    </tr>\n",
       "    <tr>\n",
       "      <th>pair_id</th>\n",
       "      <th></th>\n",
       "      <th></th>\n",
       "      <th></th>\n",
       "    </tr>\n",
       "  </thead>\n",
       "  <tbody>\n",
       "    <tr>\n",
       "      <th>144</th>\n",
       "      <td>jx nippon oil &amp; gas exploration (brasil) ltda</td>\n",
       "      <td>jx nippon oil &amp; gas exploration technical serv...</td>\n",
       "      <td>1</td>\n",
       "    </tr>\n",
       "    <tr>\n",
       "      <th>560</th>\n",
       "      <td>pirelli neumaticos s.a.i.c.</td>\n",
       "      <td>pirelli tyre co., ltd.</td>\n",
       "      <td>1</td>\n",
       "    </tr>\n",
       "    <tr>\n",
       "      <th>774</th>\n",
       "      <td>brenntag australia (pty) ltd.</td>\n",
       "      <td>brenntag group</td>\n",
       "      <td>1</td>\n",
       "    </tr>\n",
       "    <tr>\n",
       "      <th>1230</th>\n",
       "      <td>paul bauder gmbh &amp; co kg, bochum plant</td>\n",
       "      <td>paul bauder ag</td>\n",
       "      <td>1</td>\n",
       "    </tr>\n",
       "    <tr>\n",
       "      <th>1445</th>\n",
       "      <td>total ceska republika s.r.o.</td>\n",
       "      <td>total france (arnay le duc)</td>\n",
       "      <td>1</td>\n",
       "    </tr>\n",
       "  </tbody>\n",
       "</table>\n",
       "</div>"
      ],
      "text/plain": [
       "                                                name_1  \\\n",
       "pair_id                                                  \n",
       "144      jx nippon oil & gas exploration (brasil) ltda   \n",
       "560                        pirelli neumaticos s.a.i.c.   \n",
       "774                      brenntag australia (pty) ltd.   \n",
       "1230            paul bauder gmbh & co kg, bochum plant   \n",
       "1445                      total ceska republika s.r.o.   \n",
       "\n",
       "                                                    name_2  is_duplicate  \n",
       "pair_id                                                                   \n",
       "144      jx nippon oil & gas exploration technical serv...             1  \n",
       "560                                 pirelli tyre co., ltd.             1  \n",
       "774                                         brenntag group             1  \n",
       "1230                                        paul bauder ag             1  \n",
       "1445                           total france (arnay le duc)             1  "
      ]
     },
     "execution_count": 10,
     "metadata": {},
     "output_type": "execute_result"
    }
   ],
   "source": [
    "train[train.is_duplicate==1].head()"
   ]
  },
  {
   "cell_type": "markdown",
   "metadata": {},
   "source": [
    "#### 2. Remove country names from strings (excess information)"
   ]
  },
  {
   "cell_type": "code",
   "execution_count": 11,
   "metadata": {},
   "outputs": [
    {
     "data": {
      "application/vnd.jupyter.widget-view+json": {
       "model_id": "0ae8fcaf9f2a463b82e6336ee9e4ea74",
       "version_major": 2,
       "version_minor": 0
      },
      "text/plain": [
       "  0%|          | 0/249 [00:00<?, ?it/s]"
      ]
     },
     "metadata": {},
     "output_type": "display_data"
    },
    {
     "name": "stdout",
     "output_type": "stream",
     "text": [
      "CPU times: user 5min 18s, sys: 103 ms, total: 5min 18s\n",
      "Wall time: 5min 18s\n"
     ]
    }
   ],
   "source": [
    "%%time\n",
    "\n",
    "countries = [country.name.lower() for country in pycountry.countries]\n",
    "\n",
    "for country in tqdm(countries):\n",
    "    train.replace(re.compile(country), \"\", inplace=True)\n",
    "    test.replace(re.compile(country), \"\", inplace=True)"
   ]
  },
  {
   "cell_type": "code",
   "execution_count": 12,
   "metadata": {},
   "outputs": [
    {
     "data": {
      "text/html": [
       "<div>\n",
       "<style scoped>\n",
       "    .dataframe tbody tr th:only-of-type {\n",
       "        vertical-align: middle;\n",
       "    }\n",
       "\n",
       "    .dataframe tbody tr th {\n",
       "        vertical-align: top;\n",
       "    }\n",
       "\n",
       "    .dataframe thead th {\n",
       "        text-align: right;\n",
       "    }\n",
       "</style>\n",
       "<table border=\"1\" class=\"dataframe\">\n",
       "  <thead>\n",
       "    <tr style=\"text-align: right;\">\n",
       "      <th></th>\n",
       "      <th>name_1</th>\n",
       "      <th>name_2</th>\n",
       "      <th>is_duplicate</th>\n",
       "    </tr>\n",
       "    <tr>\n",
       "      <th>pair_id</th>\n",
       "      <th></th>\n",
       "      <th></th>\n",
       "      <th></th>\n",
       "    </tr>\n",
       "  </thead>\n",
       "  <tbody>\n",
       "    <tr>\n",
       "      <th>144</th>\n",
       "      <td>jx nippon oil &amp; gas exploration (brasil) ltda</td>\n",
       "      <td>jx nippon oil &amp; gas exploration technical serv...</td>\n",
       "      <td>1</td>\n",
       "    </tr>\n",
       "    <tr>\n",
       "      <th>560</th>\n",
       "      <td>pirelli neumaticos s.a.i.c.</td>\n",
       "      <td>pirelli tyre co., ltd.</td>\n",
       "      <td>1</td>\n",
       "    </tr>\n",
       "    <tr>\n",
       "      <th>774</th>\n",
       "      <td>brenntag  (pty) ltd.</td>\n",
       "      <td>brenntag group</td>\n",
       "      <td>1</td>\n",
       "    </tr>\n",
       "    <tr>\n",
       "      <th>1230</th>\n",
       "      <td>paul bauder gmbh &amp; co kg, bochum plant</td>\n",
       "      <td>paul bauder ag</td>\n",
       "      <td>1</td>\n",
       "    </tr>\n",
       "    <tr>\n",
       "      <th>1445</th>\n",
       "      <td>total ceska republika s.r.o.</td>\n",
       "      <td>total  (arnay le duc)</td>\n",
       "      <td>1</td>\n",
       "    </tr>\n",
       "  </tbody>\n",
       "</table>\n",
       "</div>"
      ],
      "text/plain": [
       "                                                name_1  \\\n",
       "pair_id                                                  \n",
       "144      jx nippon oil & gas exploration (brasil) ltda   \n",
       "560                        pirelli neumaticos s.a.i.c.   \n",
       "774                               brenntag  (pty) ltd.   \n",
       "1230            paul bauder gmbh & co kg, bochum plant   \n",
       "1445                      total ceska republika s.r.o.   \n",
       "\n",
       "                                                    name_2  is_duplicate  \n",
       "pair_id                                                                   \n",
       "144      jx nippon oil & gas exploration technical serv...             1  \n",
       "560                                 pirelli tyre co., ltd.             1  \n",
       "774                                         brenntag group             1  \n",
       "1230                                        paul bauder ag             1  \n",
       "1445                                 total  (arnay le duc)             1  "
      ]
     },
     "execution_count": 12,
     "metadata": {},
     "output_type": "execute_result"
    }
   ],
   "source": [
    "train[train.is_duplicate==1].head()"
   ]
  },
  {
   "cell_type": "markdown",
   "metadata": {},
   "source": [
    "#### 3. Remove countries, cities, location entitites from strings"
   ]
  },
  {
   "cell_type": "code",
   "execution_count": 13,
   "metadata": {},
   "outputs": [],
   "source": [
    "filter_words = ['international', 'brasil', 'usa', 'ceska republika', 'czech republic', 'polska', 'venezuela',\n",
    "               'shanghai', 'shenzhen', 'qingdao', 'dongguan', 'guangzhou',\n",
    "               'america', 'rumunia', 'италия', 'toronto', 'mexicana','nederland', 'us.', 'texas', \n",
    "               'vietnam', 'houston', 'asia', 'africa', 'americas', 'new york',\n",
    "               'korea', 'deutschland', 'pacific', 'north', 'south', 'west', 'east']"
   ]
  },
  {
   "cell_type": "code",
   "execution_count": 14,
   "metadata": {},
   "outputs": [
    {
     "data": {
      "application/vnd.jupyter.widget-view+json": {
       "model_id": "8264938720f64b45bfa2cf9160f8e0c4",
       "version_major": 2,
       "version_minor": 0
      },
      "text/plain": [
       "  0%|          | 0/33 [00:00<?, ?it/s]"
      ]
     },
     "metadata": {},
     "output_type": "display_data"
    }
   ],
   "source": [
    "for word in tqdm(filter_words):\n",
    "    train.replace(re.compile(word), \"\", inplace=True)\n",
    "    test.replace(re.compile(word), \"\", inplace=True)"
   ]
  },
  {
   "cell_type": "code",
   "execution_count": 15,
   "metadata": {},
   "outputs": [
    {
     "data": {
      "text/html": [
       "<div>\n",
       "<style scoped>\n",
       "    .dataframe tbody tr th:only-of-type {\n",
       "        vertical-align: middle;\n",
       "    }\n",
       "\n",
       "    .dataframe tbody tr th {\n",
       "        vertical-align: top;\n",
       "    }\n",
       "\n",
       "    .dataframe thead th {\n",
       "        text-align: right;\n",
       "    }\n",
       "</style>\n",
       "<table border=\"1\" class=\"dataframe\">\n",
       "  <thead>\n",
       "    <tr style=\"text-align: right;\">\n",
       "      <th></th>\n",
       "      <th>name_1</th>\n",
       "      <th>name_2</th>\n",
       "      <th>is_duplicate</th>\n",
       "    </tr>\n",
       "    <tr>\n",
       "      <th>pair_id</th>\n",
       "      <th></th>\n",
       "      <th></th>\n",
       "      <th></th>\n",
       "    </tr>\n",
       "  </thead>\n",
       "  <tbody>\n",
       "    <tr>\n",
       "      <th>144</th>\n",
       "      <td>jx nippon oil &amp; gas exploration () ltda</td>\n",
       "      <td>jx nippon oil &amp; gas exploration technical serv...</td>\n",
       "      <td>1</td>\n",
       "    </tr>\n",
       "    <tr>\n",
       "      <th>560</th>\n",
       "      <td>pirelli neumaticos s.a.i.c.</td>\n",
       "      <td>pirelli tyre co., ltd.</td>\n",
       "      <td>1</td>\n",
       "    </tr>\n",
       "    <tr>\n",
       "      <th>774</th>\n",
       "      <td>brenntag  (pty) ltd.</td>\n",
       "      <td>brenntag group</td>\n",
       "      <td>1</td>\n",
       "    </tr>\n",
       "    <tr>\n",
       "      <th>1230</th>\n",
       "      <td>paul bauder gmbh &amp; co kg, bochum plant</td>\n",
       "      <td>paul bauder ag</td>\n",
       "      <td>1</td>\n",
       "    </tr>\n",
       "    <tr>\n",
       "      <th>1445</th>\n",
       "      <td>total  s.r.o.</td>\n",
       "      <td>total  (arnay le duc)</td>\n",
       "      <td>1</td>\n",
       "    </tr>\n",
       "  </tbody>\n",
       "</table>\n",
       "</div>"
      ],
      "text/plain": [
       "                                          name_1  \\\n",
       "pair_id                                            \n",
       "144      jx nippon oil & gas exploration () ltda   \n",
       "560                  pirelli neumaticos s.a.i.c.   \n",
       "774                         brenntag  (pty) ltd.   \n",
       "1230      paul bauder gmbh & co kg, bochum plant   \n",
       "1445                               total  s.r.o.   \n",
       "\n",
       "                                                    name_2  is_duplicate  \n",
       "pair_id                                                                   \n",
       "144      jx nippon oil & gas exploration technical serv...             1  \n",
       "560                                 pirelli tyre co., ltd.             1  \n",
       "774                                         brenntag group             1  \n",
       "1230                                        paul bauder ag             1  \n",
       "1445                                 total  (arnay le duc)             1  "
      ]
     },
     "execution_count": 15,
     "metadata": {},
     "output_type": "execute_result"
    }
   ],
   "source": [
    "train[train.is_duplicate==1].head()"
   ]
  },
  {
   "cell_type": "markdown",
   "metadata": {},
   "source": [
    "#### 4. Remove punctuation, brackets and its contents"
   ]
  },
  {
   "cell_type": "code",
   "execution_count": 16,
   "metadata": {},
   "outputs": [],
   "source": [
    "train.replace(re.compile(r\"\\s+\\(.*\\)\"), \"\", inplace=True)\n",
    "test.replace(re.compile(r\"\\s+\\(.*\\)\"), \"\", inplace=True)\n",
    "\n",
    "train.replace(re.compile(r\"\\s+\\[.*\\]\"), \"\", inplace=True)\n",
    "test.replace(re.compile(r\"\\s+\\[.*\\]\"), \"\", inplace=True)\n",
    "\n",
    "train.replace(re.compile(r\"[^\\w\\s]\"), \"\", inplace=True)\n",
    "test.replace(re.compile(r\"[^\\w\\s]\"), \"\", inplace=True)"
   ]
  },
  {
   "cell_type": "code",
   "execution_count": 17,
   "metadata": {},
   "outputs": [
    {
     "data": {
      "text/html": [
       "<div>\n",
       "<style scoped>\n",
       "    .dataframe tbody tr th:only-of-type {\n",
       "        vertical-align: middle;\n",
       "    }\n",
       "\n",
       "    .dataframe tbody tr th {\n",
       "        vertical-align: top;\n",
       "    }\n",
       "\n",
       "    .dataframe thead th {\n",
       "        text-align: right;\n",
       "    }\n",
       "</style>\n",
       "<table border=\"1\" class=\"dataframe\">\n",
       "  <thead>\n",
       "    <tr style=\"text-align: right;\">\n",
       "      <th></th>\n",
       "      <th>name_1</th>\n",
       "      <th>name_2</th>\n",
       "      <th>is_duplicate</th>\n",
       "    </tr>\n",
       "    <tr>\n",
       "      <th>pair_id</th>\n",
       "      <th></th>\n",
       "      <th></th>\n",
       "      <th></th>\n",
       "    </tr>\n",
       "  </thead>\n",
       "  <tbody>\n",
       "    <tr>\n",
       "      <th>144</th>\n",
       "      <td>jx nippon oil  gas exploration ltda</td>\n",
       "      <td>jx nippon oil  gas exploration technical servi...</td>\n",
       "      <td>1</td>\n",
       "    </tr>\n",
       "    <tr>\n",
       "      <th>560</th>\n",
       "      <td>pirelli neumaticos saic</td>\n",
       "      <td>pirelli tyre co ltd</td>\n",
       "      <td>1</td>\n",
       "    </tr>\n",
       "    <tr>\n",
       "      <th>774</th>\n",
       "      <td>brenntag ltd</td>\n",
       "      <td>brenntag group</td>\n",
       "      <td>1</td>\n",
       "    </tr>\n",
       "    <tr>\n",
       "      <th>1230</th>\n",
       "      <td>paul bauder gmbh  co kg bochum plant</td>\n",
       "      <td>paul bauder ag</td>\n",
       "      <td>1</td>\n",
       "    </tr>\n",
       "    <tr>\n",
       "      <th>1445</th>\n",
       "      <td>total  sro</td>\n",
       "      <td>total</td>\n",
       "      <td>1</td>\n",
       "    </tr>\n",
       "    <tr>\n",
       "      <th>...</th>\n",
       "      <td>...</td>\n",
       "      <td>...</td>\n",
       "      <td>...</td>\n",
       "    </tr>\n",
       "    <tr>\n",
       "      <th>458469</th>\n",
       "      <td>arlanxeo  group</td>\n",
       "      <td>arlanxeo corp</td>\n",
       "      <td>1</td>\n",
       "    </tr>\n",
       "    <tr>\n",
       "      <th>458706</th>\n",
       "      <td>brenntag  sac</td>\n",
       "      <td>brenntag  comercial e indrial ltda</td>\n",
       "      <td>1</td>\n",
       "    </tr>\n",
       "    <tr>\n",
       "      <th>458769</th>\n",
       "      <td>dow chemical  private ltd</td>\n",
       "      <td>dow chemical</td>\n",
       "      <td>1</td>\n",
       "    </tr>\n",
       "    <tr>\n",
       "      <th>458856</th>\n",
       "      <td>ctbc bank co ltd ho chi minh city</td>\n",
       "      <td>ctbc bank co ltd ho chi minh city b</td>\n",
       "      <td>1</td>\n",
       "    </tr>\n",
       "    <tr>\n",
       "      <th>459249</th>\n",
       "      <td>bridgestone huizhousynthetic rubber co ltd</td>\n",
       "      <td>bridgestone  group</td>\n",
       "      <td>1</td>\n",
       "    </tr>\n",
       "  </tbody>\n",
       "</table>\n",
       "<p>3708 rows × 3 columns</p>\n",
       "</div>"
      ],
      "text/plain": [
       "                                             name_1  \\\n",
       "pair_id                                               \n",
       "144             jx nippon oil  gas exploration ltda   \n",
       "560                         pirelli neumaticos saic   \n",
       "774                                    brenntag ltd   \n",
       "1230           paul bauder gmbh  co kg bochum plant   \n",
       "1445                                     total  sro   \n",
       "...                                             ...   \n",
       "458469                              arlanxeo  group   \n",
       "458706                                brenntag  sac   \n",
       "458769                    dow chemical  private ltd   \n",
       "458856            ctbc bank co ltd ho chi minh city   \n",
       "459249   bridgestone huizhousynthetic rubber co ltd   \n",
       "\n",
       "                                                    name_2  is_duplicate  \n",
       "pair_id                                                                   \n",
       "144      jx nippon oil  gas exploration technical servi...             1  \n",
       "560                                    pirelli tyre co ltd             1  \n",
       "774                                         brenntag group             1  \n",
       "1230                                        paul bauder ag             1  \n",
       "1445                                                 total             1  \n",
       "...                                                    ...           ...  \n",
       "458469                                       arlanxeo corp             1  \n",
       "458706                  brenntag  comercial e indrial ltda             1  \n",
       "458769                                       dow chemical              1  \n",
       "458856                 ctbc bank co ltd ho chi minh city b             1  \n",
       "459249                                  bridgestone  group             1  \n",
       "\n",
       "[3708 rows x 3 columns]"
      ]
     },
     "execution_count": 17,
     "metadata": {},
     "output_type": "execute_result"
    }
   ],
   "source": [
    "train[train.is_duplicate==1]"
   ]
  },
  {
   "cell_type": "markdown",
   "metadata": {},
   "source": [
    "#### 5. Remove legal entities and abbreviations in entity names, such as \"Ltd.\" or \"ООО\"\n",
    "\n",
    "https://en.wikipedia.org/wiki/List_of_legal_entity_types_by_country"
   ]
  },
  {
   "cell_type": "code",
   "execution_count": 18,
   "metadata": {},
   "outputs": [],
   "source": [
    "def multi_str_replace(strings, debug=True):\n",
    "    re_str = r'\\b(?:' + '|'.join(\n",
    "        [re.escape(s) for s in strings]\n",
    "    ) + r')(?!\\S)'\n",
    "    if debug:\n",
    "        print(re_str)\n",
    "    return re.compile(re_str, re.UNICODE)"
   ]
  },
  {
   "cell_type": "code",
   "execution_count": 19,
   "metadata": {},
   "outputs": [
    {
     "data": {
      "application/vnd.jupyter.widget-view+json": {
       "model_id": "3477ccb759534aeb98b49f27eeabc037",
       "version_major": 2,
       "version_minor": 0
      },
      "text/plain": [
       "  0%|          | 0/2 [00:00<?, ?it/s]"
      ]
     },
     "metadata": {},
     "output_type": "display_data"
    },
    {
     "name": "stdout",
     "output_type": "stream",
     "text": [
      "\\b(?:ltd\\.|ltd|unltd|ultd|lp|llp|lllp|llc|l\\.l\\.c\\.|pllc|co\\.|inc\\.|inc|b\\.v\\.|corp\\.|p\\.c\\.|s\\.c\\.r\\.l\\.|r\\.l\\.|pvt\\.|s\\.p\\.a|c\\.a\\.|s\\.a\\.|s\\.l\\.|s\\.l\\.n\\.e\\.|s\\.l\\.l\\.|s\\.c\\.|s\\.c\\.p\\.|s\\.a\\.d\\.|sociedad|sociedade|cooperativa|s\\.r\\.o\\.|s\\ a|c\\.v\\.|ооо|зао|пао|ао|нко|有限公司|股份有限公司|无限责任公司|有限责任股份公司|ltda|srokgaa|gmbh|e\\.v\\.|r\\.v\\.|mbh|ag|societe|sep|cv|ltda|snc|scs|sca|sci|sa|sas|sarl|societa|pvt|private|imp\\.|exp\\.|sanayi|co|kg|s\\.a\\.i\\.c\\.|co\\.,|s\\.a\\.c\\.|sac|saic|ev|rv|bv|pc|rl|spa|ca|sa|sl|slne|sll|sc|scp|sad|sociedad|sociedade|cooperativa|s\\.r\\.o\\.|s\\ a|c\\.v\\.)(?!\\S)\n",
      "\\b(?:ltd\\.|ltd|unltd|ultd|lp|llp|lllp|llc|l\\.l\\.c\\.|pllc|co\\.|inc\\.|inc|b\\.v\\.|corp\\.|p\\.c\\.|s\\.c\\.r\\.l\\.|r\\.l\\.|pvt\\.|s\\.p\\.a|c\\.a\\.|s\\.a\\.|s\\.l\\.|s\\.l\\.n\\.e\\.|s\\.l\\.l\\.|s\\.c\\.|s\\.c\\.p\\.|s\\.a\\.d\\.|sociedad|sociedade|cooperativa|s\\.r\\.o\\.|s\\ a|c\\.v\\.|ооо|зао|пао|ао|нко|有限公司|股份有限公司|无限责任公司|有限责任股份公司|ltda|srokgaa|gmbh|e\\.v\\.|r\\.v\\.|mbh|ag|societe|sep|cv|ltda|snc|scs|sca|sci|sa|sas|sarl|societa|pvt|private|imp\\.|exp\\.|sanayi|co|kg|s\\.a\\.i\\.c\\.|co\\.,|s\\.a\\.c\\.|sac|saic|ev|rv|bv|pc|rl|spa|ca|sa|sl|slne|sll|sc|scp|sad|sociedad|sociedade|cooperativa|s\\.r\\.o\\.|s\\ a|c\\.v\\.)(?!\\S)\n"
     ]
    }
   ],
   "source": [
    "legal_entities = ['ltd.', 'ltd', 'unltd', 'ultd', 'lp', 'llp', 'lllp','llc', 'l.l.c.', \n",
    "                  'pllc', 'co.', 'inc.', 'inc', 'b.v.', 'corp.', 'p.c.', 's.c.r.l.',\n",
    "                  'r.l.', 'pvt.', 's.p.a', 'c.a.', 's.a.', 's.l.', 's.l.n.e.', 's.l.l.',\n",
    "                  's.c.', 's.c.p.', 's.a.d.', 'sociedad', 'sociedade', 'cooperativa', \n",
    "                  's.r.o.', 's a', 'c.v.', 'ооо', 'зао', 'пао', 'ао', 'нко',\n",
    "                  '有限公司', '股份有限公司', '无限责任公司', '有限责任股份公司', 'ltda', 'sro'\n",
    "                  'kgaa', 'gmbh', 'e.v.', 'r.v.', 'mbh', 'ag', 'societe', 'sep', 'cv', 'ltda',\n",
    "                  'snc', 'scs', 'sca', 'sci', 'sa', 'sas', 'sarl', 'societa', 'pvt', 'private',\n",
    "                  'imp.', 'exp.', 'sanayi', 'co', 'kg', 's.a.i.c.', 'co.,', 's.a.c.', 'sac',\n",
    "                  'saic', 'ev', 'rv', 'bv', 'pc', 'rl', 'spa', 'ca', 'sa', 'sl', 'slne', 'sll',\n",
    "                  'sc', 'scp', 'sad', 'sociedad', 'sociedade', 'cooperativa', \n",
    "                  's.r.o.', 's a', 'c.v.']\n",
    "\n",
    "\n",
    "for dataset in tqdm((train, test)):\n",
    "    dataset.replace(multi_str_replace(legal_entities), '', inplace=True)"
   ]
  },
  {
   "cell_type": "code",
   "execution_count": 20,
   "metadata": {},
   "outputs": [
    {
     "data": {
      "text/html": [
       "<div>\n",
       "<style scoped>\n",
       "    .dataframe tbody tr th:only-of-type {\n",
       "        vertical-align: middle;\n",
       "    }\n",
       "\n",
       "    .dataframe tbody tr th {\n",
       "        vertical-align: top;\n",
       "    }\n",
       "\n",
       "    .dataframe thead th {\n",
       "        text-align: right;\n",
       "    }\n",
       "</style>\n",
       "<table border=\"1\" class=\"dataframe\">\n",
       "  <thead>\n",
       "    <tr style=\"text-align: right;\">\n",
       "      <th></th>\n",
       "      <th>name_1</th>\n",
       "      <th>name_2</th>\n",
       "      <th>is_duplicate</th>\n",
       "    </tr>\n",
       "    <tr>\n",
       "      <th>pair_id</th>\n",
       "      <th></th>\n",
       "      <th></th>\n",
       "      <th></th>\n",
       "    </tr>\n",
       "  </thead>\n",
       "  <tbody>\n",
       "    <tr>\n",
       "      <th>144</th>\n",
       "      <td>jx nippon oil  gas exploration</td>\n",
       "      <td>jx nippon oil  gas exploration technical servi...</td>\n",
       "      <td>1</td>\n",
       "    </tr>\n",
       "    <tr>\n",
       "      <th>560</th>\n",
       "      <td>pirelli neumaticos</td>\n",
       "      <td>pirelli tyre</td>\n",
       "      <td>1</td>\n",
       "    </tr>\n",
       "    <tr>\n",
       "      <th>774</th>\n",
       "      <td>brenntag</td>\n",
       "      <td>brenntag group</td>\n",
       "      <td>1</td>\n",
       "    </tr>\n",
       "    <tr>\n",
       "      <th>1230</th>\n",
       "      <td>paul bauder     bochum plant</td>\n",
       "      <td>paul bauder</td>\n",
       "      <td>1</td>\n",
       "    </tr>\n",
       "    <tr>\n",
       "      <th>1445</th>\n",
       "      <td>total  sro</td>\n",
       "      <td>total</td>\n",
       "      <td>1</td>\n",
       "    </tr>\n",
       "    <tr>\n",
       "      <th>...</th>\n",
       "      <td>...</td>\n",
       "      <td>...</td>\n",
       "      <td>...</td>\n",
       "    </tr>\n",
       "    <tr>\n",
       "      <th>458469</th>\n",
       "      <td>arlanxeo  group</td>\n",
       "      <td>arlanxeo corp</td>\n",
       "      <td>1</td>\n",
       "    </tr>\n",
       "    <tr>\n",
       "      <th>458706</th>\n",
       "      <td>brenntag</td>\n",
       "      <td>brenntag  comercial e indrial</td>\n",
       "      <td>1</td>\n",
       "    </tr>\n",
       "    <tr>\n",
       "      <th>458769</th>\n",
       "      <td>dow chemical</td>\n",
       "      <td>dow chemical</td>\n",
       "      <td>1</td>\n",
       "    </tr>\n",
       "    <tr>\n",
       "      <th>458856</th>\n",
       "      <td>ctbc bank   ho chi minh city</td>\n",
       "      <td>ctbc bank   ho chi minh city b</td>\n",
       "      <td>1</td>\n",
       "    </tr>\n",
       "    <tr>\n",
       "      <th>459249</th>\n",
       "      <td>bridgestone huizhousynthetic rubber</td>\n",
       "      <td>bridgestone  group</td>\n",
       "      <td>1</td>\n",
       "    </tr>\n",
       "  </tbody>\n",
       "</table>\n",
       "<p>3708 rows × 3 columns</p>\n",
       "</div>"
      ],
      "text/plain": [
       "                                        name_1  \\\n",
       "pair_id                                          \n",
       "144            jx nippon oil  gas exploration    \n",
       "560                        pirelli neumaticos    \n",
       "774                                  brenntag    \n",
       "1230              paul bauder     bochum plant   \n",
       "1445                                total  sro   \n",
       "...                                        ...   \n",
       "458469                         arlanxeo  group   \n",
       "458706                              brenntag     \n",
       "458769                         dow chemical      \n",
       "458856            ctbc bank   ho chi minh city   \n",
       "459249   bridgestone huizhousynthetic rubber     \n",
       "\n",
       "                                                    name_2  is_duplicate  \n",
       "pair_id                                                                   \n",
       "144      jx nippon oil  gas exploration technical servi...             1  \n",
       "560                                         pirelli tyre               1  \n",
       "774                                         brenntag group             1  \n",
       "1230                                          paul bauder              1  \n",
       "1445                                                 total             1  \n",
       "...                                                    ...           ...  \n",
       "458469                                       arlanxeo corp             1  \n",
       "458706                      brenntag  comercial e indrial              1  \n",
       "458769                                       dow chemical              1  \n",
       "458856                      ctbc bank   ho chi minh city b             1  \n",
       "459249                                  bridgestone  group             1  \n",
       "\n",
       "[3708 rows x 3 columns]"
      ]
     },
     "execution_count": 20,
     "metadata": {},
     "output_type": "execute_result"
    }
   ],
   "source": [
    "train[train.is_duplicate==1]"
   ]
  },
  {
   "cell_type": "markdown",
   "metadata": {},
   "source": [
    "#### 6. Remove top unigrams and bigrams of length < 4 (prepositions, articles, noise, excess words)"
   ]
  },
  {
   "cell_type": "code",
   "execution_count": 21,
   "metadata": {},
   "outputs": [
    {
     "data": {
      "image/png": "[encoded data removed]",
      "text/plain": [
       "<Figure size 1152x720 with 1 Axes>"
      ]
     },
     "metadata": {
      "needs_background": "light"
     },
     "output_type": "display_data"
    }
   ],
   "source": [
    "from sklearn.feature_extraction.text import CountVectorizer\n",
    "\n",
    "def get_top_ngram(corpus, n=None):\n",
    "    vec = CountVectorizer(ngram_range=(n, n)).fit(corpus)\n",
    "    \n",
    "    bag_of_words = vec.transform(corpus)\n",
    "    sum_words = bag_of_words.sum(axis=0) \n",
    "    \n",
    "    words_freq = [(word, sum_words[0, idx]) for word, idx in vec.vocabulary_.items()]\n",
    "    words_freq =sorted(words_freq, key = lambda x: x[1], reverse=True)\n",
    "    \n",
    "    return words_freq\n",
    "\n",
    "top_n_bigrams = get_top_ngram(train['name_1'], 2)[:15]\n",
    "# top_n_bigrams\n",
    "\n",
    "x,y=map(list, zip(*top_n_bigrams))\n",
    "\n",
    "plt.figure(figsize=(16,10))\n",
    "sns.barplot(x=y, y=x)\n",
    "plt.show()"
   ]
  },
  {
   "cell_type": "code",
   "execution_count": 22,
   "metadata": {},
   "outputs": [],
   "source": [
    "uni_bigrams = list(set().union(get_top_ngram(train['name_2'], 1), get_top_ngram(train['name_1'], 1))) \n",
    "\n",
    "uni_bigrams_2s = [word[0] for word in uni_bigrams if len(word[0]) < 3]\n",
    "uni_bigrams_3s = [word[0] for word in uni_bigrams if len(word[0]) < 4]"
   ]
  },
  {
   "cell_type": "code",
   "execution_count": 23,
   "metadata": {},
   "outputs": [],
   "source": [
    "filter_ngrams = ['corporation', 'limited', 'city', 'corp', 'indria comercio', 'comercio', 'indria', 'indrial',\n",
    "                 'imp', 'exp', 'a', 'e', 'de de', 'nad de', 've ticaret',\n",
    "                 'de rl', 'rl de', 'sdn bhd', 'sp oo'] + uni_bigrams_2s + uni_bigrams_3s[:300]"
   ]
  },
  {
   "cell_type": "code",
   "execution_count": 24,
   "metadata": {},
   "outputs": [
    {
     "data": {
      "application/vnd.jupyter.widget-view+json": {
       "model_id": "32c1d76d2fab425a9ef9a1169c197582",
       "version_major": 2,
       "version_minor": 0
      },
      "text/plain": [
       "  0%|          | 0/2 [00:00<?, ?it/s]"
      ]
     },
     "metadata": {},
     "output_type": "display_data"
    },
    {
     "name": "stdout",
     "output_type": "stream",
     "text": [
      "\\b(?:corporation|limited|city|corp|indria\\ comercio|comercio|indria|indrial|imp|exp|a|e|de\\ de|nad\\ de|ve\\ ticaret|de\\ rl|rl\\ de|sdn\\ bhd|sp\\ oo|pt|ps|c2|re|za|hr|id|or|ye|tk|sr|et|vu|az|fa|10|dd|fe|bm|s2|ll|nw|pa|ek|gw|gl|my|ji|ef|ek|ck|rt|hc|rk|ab|se|f3|wj|jv|vj|29|51|cd|mp|pv|ke|yn|mo|dw|ea|md|om|rg|c7|on|eu|do|cj|ru|td|pi|gb|en|ib|ez|be|ss|as|és|qu|bl|ru|so|va|mj|mk|th|be|vi|sn|ww|dh|br|ac|jo|db|fw|zf|hp|ti|ak|30|sb|ma|fu|c7|rs|rd|pu|wh|st|kc|qc|du|uy|fg|cr|mu|fc|ts|r1|25|rr|hr|qi|aa|gd|ke|hk|wo|cj|he|bh|vu|pm|ei|aş|ya|cs|ct|gt|in|cz|sg|ka|as|te|us|sx|hs|lt|cl|mn|ny|wu|wf|dm|18|km|js|lg|qi|wc|nk|ao|kr|ap|yn|mr|72|ri|ds|ed|tp|cz|jh|21|gu|al|ro|jp|27|li|bm|ka|p2|sj|vc|fr|np|nl|uk|q8|di|jb|ci|cs|ia|gz|mx|jx|mo|sk|ly|oz|ga|mb|ta|ae|cm|nv|is|ht|wv|na|az|lv|of|fe|jg|ng|ae|oh|vs|wf|jc|lt|cp|mr|w0|pe|oü|gl|ds|сп|tu|bg|tr|jd|gk|yf|m3|to|c2|ri|re|pp|pe|lm|vf|jw|gb|tw|sv|md|ws|on|cu|nb|fb|sv|tg|10|wl|jg|ak|sb|bh|nr|ai|ar|ck|me|ez|gv|li|sr|rj|60|st|jf|mp|ol|io|39|oo|dw|da|ni|ii|rg|rc|ep|nz|jo|vj|oy|ol|11|dt|og|bf|ic|oü|rr|kp|ze|51|09|bb|up|hk|ad|nc|cr|a1|dc|ze|wu|se|17|20|ho|we|du|so|pi|kb|k2|ba|av|ew|ei|we|dg|ia|rm|et|wh|gm|py|qf|tu|an|wa|d3|uy|ah|vi|ap|vk|72|ty|ts|pj|ik|xi|16|bo|30|12|tl|hn|39|np|oq|kl|21|ul|ro|ya|dp|27|aa|gp|os|nj|pl|nd|mu|or|h2|sx|mv|mi|bt|fi|ct|mc|ha|ks|jt|31|ip|c0|si|jh|uc|ve|ps|hj|33|go|te|pj|ao|kr|aj|yk|wo|tx|rb|vs|ki|jc|m4|fm|hb|pp|m7|wc|nm|ng|cc|fl|mg|a2|gc|és|nm|nu|vc|il|60|dj|en|jb|f8|cm|ha|s2|аг|45|gj|r1|er|mk|yk|bc|dj|ab|hy|sg|di|ks|xv|ep|cu|yu|rt|le|ea|tt|hq|hg|nz|bg|hb|lc|fu|br|ua|gi|dh|os|tg|bl|nl|x2|kv|vm|ex|bc|ai|ar|sp|20|jm|td|ga|kb|de|ws|dt|hs|el|da|bb|ac|po|er|jf|16|12|pt|aj|im|p2|lu|kd|wj|wm|wp|гк|ge|bo|at|hm|io|pr|kk|pf|he|h2|em|cl|fi|rd|si|22|wm|bw|eu|sj|ju|ba|em|mn|ew|по|km|ko|jj|sw|wr|rh|lf|zx|sh|go|m7|us|nk|fr|uc|ig|jl|cn|ni|kl|ki|25|ex|js|rm|am|ml|t3|jv|xu|ne|eg|im|nd|ah|la|hl|og|tx|vn|3m|gu|62|dg|nb|mc|am|xi|yi|tl|tp|32|po|ma|zg|3m|lo|bt|ms|oz|tm|za|ce|cn|by|tk|45|jx|op|zg|ul|lo|om|ss|av|id|wr|hi|de|it|w0|wv|oy|ch|ft|yf|c0|oh|me|mg|ic|33|nj|fm|dc|cp|dy|31|tr|lv|ip|le|vk|a1|ms|hq|kd|gw|mt|ed|ik|lf|mj|qu|sy|d3|хп|jk|a2|th|jp|hi|29|ll|tw|at|rc|sy|dr|ch|hp|hy|bn|sd|ii|gj|sh|es|vf|aş|bn|el|of|ho|nv|nw|ht|f3|hg|rj|gd|11|qc|nr|dr|jk|tt|xv|by|mt|no|rh|kk|ge|gp|се|kv|nc|ju|ve|vm|bi|jr|ug|ib|hj|gz|in|va|ld|db|09|qf|wl|an|lm|17|jl|gt|no|ug|eh|sm|ti|wa|lu|sn|ww|ty|rs|dm|gi|ef|gm|t3|wp|cc|eh|zf|yi|pl|32|oo|op|ig|fl|bi|62|jm|to|nu|xu|kc|su|hn|ld|fg|ud|fc|2k|sk|ly|tm|ny|q8|es|ml|zx|up|na|bd|ou|oq|bf|mv|gc|rb|22|jr|18|mx|hm|oe|k2|jw|dd|cd|ft|mi|pf|ci|uk|sw|rk|is|ce|14|oe|bu|lg|su|m3|ad|ud|zs|vn|lc|fa|m4|pr|al|14|pu|bu|eg|bd|it|gk|ou|ji|il|ta|yu|sp|pt|hwa|ps|c2|dmg|vet|pee|toy|re|joo|lcc|kwo|dlg|mmp|nkh|edf|za|535|far|hr|sui|bsn|vkb|id|nif|div|or|vkc|hba|kfc|met|dfx|ami|lan|dc2|idt|ye|art|tk|rug|reg|sr|bdh|sup|csg|qcs|et|afi|bca|fax|day|spr|bsc|sal|aim|yol|vu|pro|rbk|mai|nas|pok|miq|bbc|kst|az|tho|cic|fa|10|adk|ubi|ink|dd|gts|abb|dmg|non|fe|gsi|kft|hac|bds|eps|mya|nkh|rcs|afc|spk|asp|bco|bm|dht|gac|amt|s2|yof|hba|fzc|pya|del|jai|apl|net|ppg|vem|tts|ll|nw|spt|lmd|cal|cau|pa|ek|apx|upl|sav|tpe|otb|hkm|600|tsp|gw|jam|gl|my|bdo|bva|ji|bon|dwc|prt|рсй|rbk|jsw|ef|555|ara|jtl|bva|ihm|abi|sfk|ooo|bmg|kwo|dai|abd|bnd|cpt|raj|mas|ek|ck|rt|nai|nsd|nan|zlt|fur|hc|rk|isg|dog|ndo|yue|ab|yow|aru|se|thc|mir|f3|hkm|cms|bhd|dec|cmc|cai|kun|bep|mak|wj|gmr|jv|cne|vj|29|uti|all|nbd|ruk|51|xin|cd|adp|las|mp|jbi|nui|mod|rna|jci|ktl|cba|pv|seg|ke|mrj|yn|cnc|mo|oro|mar|bar|cdo|bed|nig|dw|ea|fon|md|kuo|apl|not|brx|om|gtm|dom|eet|660|uno|red|rg|c7|ckp|on|maf|mil|vac|snf|pgm|bep|eu|vkc|rah|uae|do|пкф|rfd|lof|ast|djs|zam|esp|all|ktn|185|cvg|jsh|oak|aba|ipe|oia|mol|iko|cj|ru|td|com|ctl|odw|sur|pi|bpm|gb|sen|qwg|cnt|old|bst|srp|sin|jsp|cci|en|ib|haj|ez|be|hey|far|par|eho|vdl|ss|511|pvc|cdm)(?!\\S)\n",
      "\\b(?:corporation|limited|city|corp|indria\\ comercio|comercio|indria|indrial|imp|exp|a|e|de\\ de|nad\\ de|ve\\ ticaret|de\\ rl|rl\\ de|sdn\\ bhd|sp\\ oo|pt|ps|c2|re|za|hr|id|or|ye|tk|sr|et|vu|az|fa|10|dd|fe|bm|s2|ll|nw|pa|ek|gw|gl|my|ji|ef|ek|ck|rt|hc|rk|ab|se|f3|wj|jv|vj|29|51|cd|mp|pv|ke|yn|mo|dw|ea|md|om|rg|c7|on|eu|do|cj|ru|td|pi|gb|en|ib|ez|be|ss|as|és|qu|bl|ru|so|va|mj|mk|th|be|vi|sn|ww|dh|br|ac|jo|db|fw|zf|hp|ti|ak|30|sb|ma|fu|c7|rs|rd|pu|wh|st|kc|qc|du|uy|fg|cr|mu|fc|ts|r1|25|rr|hr|qi|aa|gd|ke|hk|wo|cj|he|bh|vu|pm|ei|aş|ya|cs|ct|gt|in|cz|sg|ka|as|te|us|sx|hs|lt|cl|mn|ny|wu|wf|dm|18|km|js|lg|qi|wc|nk|ao|kr|ap|yn|mr|72|ri|ds|ed|tp|cz|jh|21|gu|al|ro|jp|27|li|bm|ka|p2|sj|vc|fr|np|nl|uk|q8|di|jb|ci|cs|ia|gz|mx|jx|mo|sk|ly|oz|ga|mb|ta|ae|cm|nv|is|ht|wv|na|az|lv|of|fe|jg|ng|ae|oh|vs|wf|jc|lt|cp|mr|w0|pe|oü|gl|ds|сп|tu|bg|tr|jd|gk|yf|m3|to|c2|ri|re|pp|pe|lm|vf|jw|gb|tw|sv|md|ws|on|cu|nb|fb|sv|tg|10|wl|jg|ak|sb|bh|nr|ai|ar|ck|me|ez|gv|li|sr|rj|60|st|jf|mp|ol|io|39|oo|dw|da|ni|ii|rg|rc|ep|nz|jo|vj|oy|ol|11|dt|og|bf|ic|oü|rr|kp|ze|51|09|bb|up|hk|ad|nc|cr|a1|dc|ze|wu|se|17|20|ho|we|du|so|pi|kb|k2|ba|av|ew|ei|we|dg|ia|rm|et|wh|gm|py|qf|tu|an|wa|d3|uy|ah|vi|ap|vk|72|ty|ts|pj|ik|xi|16|bo|30|12|tl|hn|39|np|oq|kl|21|ul|ro|ya|dp|27|aa|gp|os|nj|pl|nd|mu|or|h2|sx|mv|mi|bt|fi|ct|mc|ha|ks|jt|31|ip|c0|si|jh|uc|ve|ps|hj|33|go|te|pj|ao|kr|aj|yk|wo|tx|rb|vs|ki|jc|m4|fm|hb|pp|m7|wc|nm|ng|cc|fl|mg|a2|gc|és|nm|nu|vc|il|60|dj|en|jb|f8|cm|ha|s2|аг|45|gj|r1|er|mk|yk|bc|dj|ab|hy|sg|di|ks|xv|ep|cu|yu|rt|le|ea|tt|hq|hg|nz|bg|hb|lc|fu|br|ua|gi|dh|os|tg|bl|nl|x2|kv|vm|ex|bc|ai|ar|sp|20|jm|td|ga|kb|de|ws|dt|hs|el|da|bb|ac|po|er|jf|16|12|pt|aj|im|p2|lu|kd|wj|wm|wp|гк|ge|bo|at|hm|io|pr|kk|pf|he|h2|em|cl|fi|rd|si|22|wm|bw|eu|sj|ju|ba|em|mn|ew|по|km|ko|jj|sw|wr|rh|lf|zx|sh|go|m7|us|nk|fr|uc|ig|jl|cn|ni|kl|ki|25|ex|js|rm|am|ml|t3|jv|xu|ne|eg|im|nd|ah|la|hl|og|tx|vn|3m|gu|62|dg|nb|mc|am|xi|yi|tl|tp|32|po|ma|zg|3m|lo|bt|ms|oz|tm|za|ce|cn|by|tk|45|jx|op|zg|ul|lo|om|ss|av|id|wr|hi|de|it|w0|wv|oy|ch|ft|yf|c0|oh|me|mg|ic|33|nj|fm|dc|cp|dy|31|tr|lv|ip|le|vk|a1|ms|hq|kd|gw|mt|ed|ik|lf|mj|qu|sy|d3|хп|jk|a2|th|jp|hi|29|ll|tw|at|rc|sy|dr|ch|hp|hy|bn|sd|ii|gj|sh|es|vf|aş|bn|el|of|ho|nv|nw|ht|f3|hg|rj|gd|11|qc|nr|dr|jk|tt|xv|by|mt|no|rh|kk|ge|gp|се|kv|nc|ju|ve|vm|bi|jr|ug|ib|hj|gz|in|va|ld|db|09|qf|wl|an|lm|17|jl|gt|no|ug|eh|sm|ti|wa|lu|sn|ww|ty|rs|dm|gi|ef|gm|t3|wp|cc|eh|zf|yi|pl|32|oo|op|ig|fl|bi|62|jm|to|nu|xu|kc|su|hn|ld|fg|ud|fc|2k|sk|ly|tm|ny|q8|es|ml|zx|up|na|bd|ou|oq|bf|mv|gc|rb|22|jr|18|mx|hm|oe|k2|jw|dd|cd|ft|mi|pf|ci|uk|sw|rk|is|ce|14|oe|bu|lg|su|m3|ad|ud|zs|vn|lc|fa|m4|pr|al|14|pu|bu|eg|bd|it|gk|ou|ji|il|ta|yu|sp|pt|hwa|ps|c2|dmg|vet|pee|toy|re|joo|lcc|kwo|dlg|mmp|nkh|edf|za|535|far|hr|sui|bsn|vkb|id|nif|div|or|vkc|hba|kfc|met|dfx|ami|lan|dc2|idt|ye|art|tk|rug|reg|sr|bdh|sup|csg|qcs|et|afi|bca|fax|day|spr|bsc|sal|aim|yol|vu|pro|rbk|mai|nas|pok|miq|bbc|kst|az|tho|cic|fa|10|adk|ubi|ink|dd|gts|abb|dmg|non|fe|gsi|kft|hac|bds|eps|mya|nkh|rcs|afc|spk|asp|bco|bm|dht|gac|amt|s2|yof|hba|fzc|pya|del|jai|apl|net|ppg|vem|tts|ll|nw|spt|lmd|cal|cau|pa|ek|apx|upl|sav|tpe|otb|hkm|600|tsp|gw|jam|gl|my|bdo|bva|ji|bon|dwc|prt|рсй|rbk|jsw|ef|555|ara|jtl|bva|ihm|abi|sfk|ooo|bmg|kwo|dai|abd|bnd|cpt|raj|mas|ek|ck|rt|nai|nsd|nan|zlt|fur|hc|rk|isg|dog|ndo|yue|ab|yow|aru|se|thc|mir|f3|hkm|cms|bhd|dec|cmc|cai|kun|bep|mak|wj|gmr|jv|cne|vj|29|uti|all|nbd|ruk|51|xin|cd|adp|las|mp|jbi|nui|mod|rna|jci|ktl|cba|pv|seg|ke|mrj|yn|cnc|mo|oro|mar|bar|cdo|bed|nig|dw|ea|fon|md|kuo|apl|not|brx|om|gtm|dom|eet|660|uno|red|rg|c7|ckp|on|maf|mil|vac|snf|pgm|bep|eu|vkc|rah|uae|do|пкф|rfd|lof|ast|djs|zam|esp|all|ktn|185|cvg|jsh|oak|aba|ipe|oia|mol|iko|cj|ru|td|com|ctl|odw|sur|pi|bpm|gb|sen|qwg|cnt|old|bst|srp|sin|jsp|cci|en|ib|haj|ez|be|hey|far|par|eho|vdl|ss|511|pvc|cdm)(?!\\S)\n",
      "CPU times: user 23.2 s, sys: 32 ms, total: 23.2 s\n",
      "Wall time: 23.3 s\n"
     ]
    }
   ],
   "source": [
    "%%time\n",
    "\n",
    "for dataset in tqdm((train, test)):\n",
    "    dataset.replace(multi_str_replace(filter_ngrams), '', inplace=True)"
   ]
  },
  {
   "cell_type": "code",
   "execution_count": 25,
   "metadata": {},
   "outputs": [
    {
     "data": {
      "text/html": [
       "<div>\n",
       "<style scoped>\n",
       "    .dataframe tbody tr th:only-of-type {\n",
       "        vertical-align: middle;\n",
       "    }\n",
       "\n",
       "    .dataframe tbody tr th {\n",
       "        vertical-align: top;\n",
       "    }\n",
       "\n",
       "    .dataframe thead th {\n",
       "        text-align: right;\n",
       "    }\n",
       "</style>\n",
       "<table border=\"1\" class=\"dataframe\">\n",
       "  <thead>\n",
       "    <tr style=\"text-align: right;\">\n",
       "      <th></th>\n",
       "      <th>name_1</th>\n",
       "      <th>name_2</th>\n",
       "      <th>is_duplicate</th>\n",
       "    </tr>\n",
       "    <tr>\n",
       "      <th>pair_id</th>\n",
       "      <th></th>\n",
       "      <th></th>\n",
       "      <th></th>\n",
       "    </tr>\n",
       "  </thead>\n",
       "  <tbody>\n",
       "    <tr>\n",
       "      <th>144</th>\n",
       "      <td>nippon oil  gas exploration</td>\n",
       "      <td>nippon oil  gas exploration technical services</td>\n",
       "      <td>1</td>\n",
       "    </tr>\n",
       "    <tr>\n",
       "      <th>560</th>\n",
       "      <td>pirelli neumaticos</td>\n",
       "      <td>pirelli tyre</td>\n",
       "      <td>1</td>\n",
       "    </tr>\n",
       "    <tr>\n",
       "      <th>774</th>\n",
       "      <td>brenntag</td>\n",
       "      <td>brenntag group</td>\n",
       "      <td>1</td>\n",
       "    </tr>\n",
       "    <tr>\n",
       "      <th>1230</th>\n",
       "      <td>paul bauder     bochum plant</td>\n",
       "      <td>paul bauder</td>\n",
       "      <td>1</td>\n",
       "    </tr>\n",
       "    <tr>\n",
       "      <th>1445</th>\n",
       "      <td>total  sro</td>\n",
       "      <td>total</td>\n",
       "      <td>1</td>\n",
       "    </tr>\n",
       "    <tr>\n",
       "      <th>...</th>\n",
       "      <td>...</td>\n",
       "      <td>...</td>\n",
       "      <td>...</td>\n",
       "    </tr>\n",
       "    <tr>\n",
       "      <th>458469</th>\n",
       "      <td>arlanxeo  group</td>\n",
       "      <td>arlanxeo</td>\n",
       "      <td>1</td>\n",
       "    </tr>\n",
       "    <tr>\n",
       "      <th>458706</th>\n",
       "      <td>brenntag</td>\n",
       "      <td>brenntag  comercial</td>\n",
       "      <td>1</td>\n",
       "    </tr>\n",
       "    <tr>\n",
       "      <th>458769</th>\n",
       "      <td>dow chemical</td>\n",
       "      <td>dow chemical</td>\n",
       "      <td>1</td>\n",
       "    </tr>\n",
       "    <tr>\n",
       "      <th>458856</th>\n",
       "      <td>ctbc bank    chi minh</td>\n",
       "      <td>ctbc bank    chi minh  b</td>\n",
       "      <td>1</td>\n",
       "    </tr>\n",
       "    <tr>\n",
       "      <th>459249</th>\n",
       "      <td>bridgestone huizhousynthetic rubber</td>\n",
       "      <td>bridgestone  group</td>\n",
       "      <td>1</td>\n",
       "    </tr>\n",
       "  </tbody>\n",
       "</table>\n",
       "<p>3708 rows × 3 columns</p>\n",
       "</div>"
      ],
      "text/plain": [
       "                                        name_1  \\\n",
       "pair_id                                          \n",
       "144               nippon oil  gas exploration    \n",
       "560                        pirelli neumaticos    \n",
       "774                                  brenntag    \n",
       "1230              paul bauder     bochum plant   \n",
       "1445                                total  sro   \n",
       "...                                        ...   \n",
       "458469                         arlanxeo  group   \n",
       "458706                              brenntag     \n",
       "458769                         dow chemical      \n",
       "458856                  ctbc bank    chi minh    \n",
       "459249   bridgestone huizhousynthetic rubber     \n",
       "\n",
       "                                                   name_2  is_duplicate  \n",
       "pair_id                                                                  \n",
       "144       nippon oil  gas exploration technical services              1  \n",
       "560                                        pirelli tyre               1  \n",
       "774                                        brenntag group             1  \n",
       "1230                                         paul bauder              1  \n",
       "1445                                                total             1  \n",
       "...                                                   ...           ...  \n",
       "458469                                          arlanxeo              1  \n",
       "458706                             brenntag  comercial                1  \n",
       "458769                                      dow chemical              1  \n",
       "458856                           ctbc bank    chi minh  b             1  \n",
       "459249                                 bridgestone  group             1  \n",
       "\n",
       "[3708 rows x 3 columns]"
      ]
     },
     "execution_count": 25,
     "metadata": {},
     "output_type": "execute_result"
    }
   ],
   "source": [
    "train[train.is_duplicate==1]"
   ]
  },
  {
   "cell_type": "markdown",
   "metadata": {},
   "source": [
    "## EDA (Counts, Words, N-Grams)"
   ]
  },
  {
   "cell_type": "code",
   "execution_count": 26,
   "metadata": {},
   "outputs": [
    {
     "name": "stdout",
     "output_type": "stream",
     "text": [
      "             Frequency\n",
      "Word                  \n",
      "indries          14435\n",
      "trading          12051\n",
      "logistics        10958\n",
      "rubber            8550\n",
      "products          4839\n",
      "chemical          3033\n",
      "plastic           2748\n",
      "enterprises       2688\n",
      "chemicals         2577\n",
      "group             2300\n"
     ]
    },
    {
     "data": {
      "text/plain": [
       "<AxesSubplot:xlabel='Word'>"
      ]
     },
     "execution_count": 26,
     "metadata": {},
     "output_type": "execute_result"
    },
    {
     "data": {
      "image/png": "[encoded data removed]",
      "text/plain": [
       "<Figure size 720x432 with 1 Axes>"
      ]
     },
     "metadata": {
      "needs_background": "light"
     },
     "output_type": "display_data"
    }
   ],
   "source": [
    "top_N = 10\n",
    "\n",
    "stopwords = nltk.corpus.stopwords.words('english')\n",
    "\n",
    "RE_stopwords = r'\\b(?:{})\\b'.format('|'.join(stopwords))\n",
    "\n",
    "words = (test.name_1\n",
    "           .str.lower()\n",
    "           .replace([r'\\|', RE_stopwords], [' ', ''], regex=True)\n",
    "           .str.cat(sep=' ')\n",
    "           .split()\n",
    ")\n",
    "\n",
    "# generate DF out of Counter\n",
    "rslt = pd.DataFrame(Counter(words).most_common(top_N),\n",
    "                    columns=['Word', 'Frequency']).set_index('Word')\n",
    "print(rslt)\n",
    "\n",
    "# plot\n",
    "rslt.plot.bar(rot=0, figsize=(10,6), width=0.8)"
   ]
  },
  {
   "cell_type": "markdown",
   "metadata": {},
   "source": [
    "## Feature Engineering"
   ]
  },
  {
   "cell_type": "code",
   "execution_count": 27,
   "metadata": {},
   "outputs": [],
   "source": [
    "from strsimpy.normalized_levenshtein import NormalizedLevenshtein\n",
    "from strsimpy.damerau import Damerau\n",
    "from strsimpy.ngram import NGram"
   ]
  },
  {
   "cell_type": "markdown",
   "metadata": {},
   "source": [
    "#### 1. Normalized Levenshtein distance"
   ]
  },
  {
   "cell_type": "code",
   "execution_count": 28,
   "metadata": {},
   "outputs": [
    {
     "data": {
      "application/vnd.jupyter.widget-view+json": {
       "model_id": "4c32b5060f0d4c5594c4d6914c63d3b2",
       "version_major": 2,
       "version_minor": 0
      },
      "text/plain": [
       "  0%|          | 0/459450 [00:00<?, ?it/s]"
      ]
     },
     "metadata": {},
     "output_type": "display_data"
    },
    {
     "data": {
      "application/vnd.jupyter.widget-view+json": {
       "model_id": "4e635b036fa3465fb71bb39f894b64e4",
       "version_major": 2,
       "version_minor": 0
      },
      "text/plain": [
       "  0%|          | 0/213249 [00:00<?, ?it/s]"
      ]
     },
     "metadata": {},
     "output_type": "display_data"
    }
   ],
   "source": [
    "normalized_levenshtein = NormalizedLevenshtein()\n",
    "\n",
    "train['norm_levenstein'] = train.progress_apply(lambda r: normalized_levenshtein.distance(r.name_1, r.name_2),\n",
    "                                                axis=1)\n",
    "test['norm_levenstein'] = test.progress_apply(lambda r: normalized_levenshtein.distance(r.name_1, r.name_2),\n",
    "                                              axis=1)"
   ]
  },
  {
   "cell_type": "markdown",
   "metadata": {},
   "source": [
    "#### 2. Damerau-Levenshtein distance"
   ]
  },
  {
   "cell_type": "code",
   "execution_count": 29,
   "metadata": {},
   "outputs": [
    {
     "data": {
      "application/vnd.jupyter.widget-view+json": {
       "model_id": "995e0869ab6442928b90cf95197f2c89",
       "version_major": 2,
       "version_minor": 0
      },
      "text/plain": [
       "  0%|          | 0/459450 [00:00<?, ?it/s]"
      ]
     },
     "metadata": {},
     "output_type": "display_data"
    },
    {
     "data": {
      "application/vnd.jupyter.widget-view+json": {
       "model_id": "719abf4e290341f79205930023deb3f4",
       "version_major": 2,
       "version_minor": 0
      },
      "text/plain": [
       "  0%|          | 0/213249 [00:00<?, ?it/s]"
      ]
     },
     "metadata": {},
     "output_type": "display_data"
    }
   ],
   "source": [
    "damerau = Damerau()\n",
    "\n",
    "train['damerau'] = train.progress_apply(lambda r: damerau.distance(r.name_1, r.name_2), axis=1)\n",
    "test['damerau'] = test.progress_apply(lambda r: damerau.distance(r.name_1, r.name_2), axis=1)"
   ]
  },
  {
   "cell_type": "markdown",
   "metadata": {},
   "source": [
    "#### 3. N-Grams (Two Grams)"
   ]
  },
  {
   "cell_type": "code",
   "execution_count": 30,
   "metadata": {},
   "outputs": [
    {
     "data": {
      "application/vnd.jupyter.widget-view+json": {
       "model_id": "bca1a95e298f48819e5fd6ceac207075",
       "version_major": 2,
       "version_minor": 0
      },
      "text/plain": [
       "  0%|          | 0/459450 [00:00<?, ?it/s]"
      ]
     },
     "metadata": {},
     "output_type": "display_data"
    },
    {
     "data": {
      "application/vnd.jupyter.widget-view+json": {
       "model_id": "c374e154b9e84e099b9f94a00f837c70",
       "version_major": 2,
       "version_minor": 0
      },
      "text/plain": [
       "  0%|          | 0/213249 [00:00<?, ?it/s]"
      ]
     },
     "metadata": {},
     "output_type": "display_data"
    }
   ],
   "source": [
    "twogram = NGram(2)\n",
    "\n",
    "train['two_ngram'] = train.progress_apply(lambda r: twogram.distance(r.name_1, r.name_2), axis=1)\n",
    "test['two_ngram'] = test.progress_apply(lambda r: twogram.distance(r.name_1, r.name_2), axis=1)"
   ]
  },
  {
   "cell_type": "markdown",
   "metadata": {},
   "source": [
    "#### 4. Jaccard similarity index"
   ]
  },
  {
   "cell_type": "code",
   "execution_count": 31,
   "metadata": {},
   "outputs": [
    {
     "data": {
      "application/vnd.jupyter.widget-view+json": {
       "model_id": "a3ac8b185fa54852bcc6e426086a4dc4",
       "version_major": 2,
       "version_minor": 0
      },
      "text/plain": [
       "  0%|          | 0/459450 [00:00<?, ?it/s]"
      ]
     },
     "metadata": {},
     "output_type": "display_data"
    },
    {
     "data": {
      "application/vnd.jupyter.widget-view+json": {
       "model_id": "abe98978d6e74f6ea3dcd46e1aad628c",
       "version_major": 2,
       "version_minor": 0
      },
      "text/plain": [
       "  0%|          | 0/213249 [00:00<?, ?it/s]"
      ]
     },
     "metadata": {},
     "output_type": "display_data"
    }
   ],
   "source": [
    "def get_jaccard_sim(str1, str2): \n",
    "    a = set(str1.split()) \n",
    "    b = set(str2.split())\n",
    "    c = a.intersection(b)\n",
    "    \n",
    "    try:\n",
    "        jaccard = float(len(c)) / (len(a) + len(b) - len(c))\n",
    "    except Exception:\n",
    "        jaccard = 0\n",
    "        \n",
    "    return jaccard\n",
    "\n",
    "train['jaccard'] = train.progress_apply(lambda r: get_jaccard_sim(r.name_1, r.name_2), axis=1)\n",
    "test['jaccard'] = test.progress_apply(lambda r: get_jaccard_sim(r.name_1, r.name_2), axis=1)"
   ]
  },
  {
   "cell_type": "markdown",
   "metadata": {},
   "source": [
    "#### 5. SequenceMatcher ratio"
   ]
  },
  {
   "cell_type": "code",
   "execution_count": 32,
   "metadata": {},
   "outputs": [
    {
     "data": {
      "application/vnd.jupyter.widget-view+json": {
       "model_id": "d001031399c849e1881ea95e1e24c795",
       "version_major": 2,
       "version_minor": 0
      },
      "text/plain": [
       "  0%|          | 0/459450 [00:00<?, ?it/s]"
      ]
     },
     "metadata": {},
     "output_type": "display_data"
    },
    {
     "data": {
      "application/vnd.jupyter.widget-view+json": {
       "model_id": "d474c971a4df4201b3f908bb0dd86b1c",
       "version_major": 2,
       "version_minor": 0
      },
      "text/plain": [
       "  0%|          | 0/213249 [00:00<?, ?it/s]"
      ]
     },
     "metadata": {},
     "output_type": "display_data"
    }
   ],
   "source": [
    "def seq_match(str1, str2):\n",
    "    return CSequenceMatcher(None, str1, str2).ratio()\n",
    "\n",
    "train['seq_match'] = train.progress_apply(lambda r: seq_match(r.name_1, r.name_2), axis=1)\n",
    "test['seq_match'] = test.progress_apply(lambda r: seq_match(r.name_1, r.name_2), axis=1)"
   ]
  },
  {
   "cell_type": "code",
   "execution_count": 33,
   "metadata": {},
   "outputs": [
    {
     "data": {
      "text/html": [
       "<div>\n",
       "<style scoped>\n",
       "    .dataframe tbody tr th:only-of-type {\n",
       "        vertical-align: middle;\n",
       "    }\n",
       "\n",
       "    .dataframe tbody tr th {\n",
       "        vertical-align: top;\n",
       "    }\n",
       "\n",
       "    .dataframe thead th {\n",
       "        text-align: right;\n",
       "    }\n",
       "</style>\n",
       "<table border=\"1\" class=\"dataframe\">\n",
       "  <thead>\n",
       "    <tr style=\"text-align: right;\">\n",
       "      <th></th>\n",
       "      <th>name_1</th>\n",
       "      <th>name_2</th>\n",
       "      <th>is_duplicate</th>\n",
       "      <th>norm_levenstein</th>\n",
       "      <th>damerau</th>\n",
       "      <th>two_ngram</th>\n",
       "      <th>jaccard</th>\n",
       "      <th>seq_match</th>\n",
       "    </tr>\n",
       "    <tr>\n",
       "      <th>pair_id</th>\n",
       "      <th></th>\n",
       "      <th></th>\n",
       "      <th></th>\n",
       "      <th></th>\n",
       "      <th></th>\n",
       "      <th></th>\n",
       "      <th></th>\n",
       "      <th></th>\n",
       "    </tr>\n",
       "  </thead>\n",
       "  <tbody>\n",
       "    <tr>\n",
       "      <th>144</th>\n",
       "      <td>nippon oil  gas exploration</td>\n",
       "      <td>nippon oil  gas exploration technical services</td>\n",
       "      <td>1</td>\n",
       "      <td>0.395833</td>\n",
       "      <td>19.0</td>\n",
       "      <td>0.395833</td>\n",
       "      <td>0.666667</td>\n",
       "      <td>0.753247</td>\n",
       "    </tr>\n",
       "    <tr>\n",
       "      <th>560</th>\n",
       "      <td>pirelli neumaticos</td>\n",
       "      <td>pirelli tyre</td>\n",
       "      <td>1</td>\n",
       "      <td>0.473684</td>\n",
       "      <td>9.0</td>\n",
       "      <td>0.500000</td>\n",
       "      <td>0.333333</td>\n",
       "      <td>0.606061</td>\n",
       "    </tr>\n",
       "    <tr>\n",
       "      <th>774</th>\n",
       "      <td>brenntag</td>\n",
       "      <td>brenntag group</td>\n",
       "      <td>1</td>\n",
       "      <td>0.357143</td>\n",
       "      <td>5.0</td>\n",
       "      <td>0.357143</td>\n",
       "      <td>0.500000</td>\n",
       "      <td>0.782609</td>\n",
       "    </tr>\n",
       "    <tr>\n",
       "      <th>1230</th>\n",
       "      <td>paul bauder     bochum plant</td>\n",
       "      <td>paul bauder</td>\n",
       "      <td>1</td>\n",
       "      <td>0.571429</td>\n",
       "      <td>16.0</td>\n",
       "      <td>0.571429</td>\n",
       "      <td>0.500000</td>\n",
       "      <td>0.600000</td>\n",
       "    </tr>\n",
       "    <tr>\n",
       "      <th>1445</th>\n",
       "      <td>total  sro</td>\n",
       "      <td>total</td>\n",
       "      <td>1</td>\n",
       "      <td>0.500000</td>\n",
       "      <td>5.0</td>\n",
       "      <td>0.500000</td>\n",
       "      <td>0.500000</td>\n",
       "      <td>0.666667</td>\n",
       "    </tr>\n",
       "  </tbody>\n",
       "</table>\n",
       "</div>"
      ],
      "text/plain": [
       "                                name_1  \\\n",
       "pair_id                                  \n",
       "144       nippon oil  gas exploration    \n",
       "560                pirelli neumaticos    \n",
       "774                          brenntag    \n",
       "1230      paul bauder     bochum plant   \n",
       "1445                        total  sro   \n",
       "\n",
       "                                                   name_2  is_duplicate  \\\n",
       "pair_id                                                                   \n",
       "144       nippon oil  gas exploration technical services              1   \n",
       "560                                        pirelli tyre               1   \n",
       "774                                        brenntag group             1   \n",
       "1230                                         paul bauder              1   \n",
       "1445                                                total             1   \n",
       "\n",
       "         norm_levenstein  damerau  two_ngram   jaccard  seq_match  \n",
       "pair_id                                                            \n",
       "144             0.395833     19.0   0.395833  0.666667   0.753247  \n",
       "560             0.473684      9.0   0.500000  0.333333   0.606061  \n",
       "774             0.357143      5.0   0.357143  0.500000   0.782609  \n",
       "1230            0.571429     16.0   0.571429  0.500000   0.600000  \n",
       "1445            0.500000      5.0   0.500000  0.500000   0.666667  "
      ]
     },
     "execution_count": 33,
     "metadata": {},
     "output_type": "execute_result"
    }
   ],
   "source": [
    "train[train.is_duplicate==1].head()"
   ]
  },
  {
   "cell_type": "markdown",
   "metadata": {},
   "source": [
    "## EDA (Difference between Classes & Feature Generation)"
   ]
  },
  {
   "cell_type": "markdown",
   "metadata": {},
   "source": [
    "#### Normalize Damerau"
   ]
  },
  {
   "cell_type": "code",
   "execution_count": 34,
   "metadata": {},
   "outputs": [],
   "source": [
    "from sklearn import preprocessing\n",
    "\n",
    "damerau_values = train[['damerau']]\n",
    "\n",
    "scaler = preprocessing.MinMaxScaler()\n",
    "\n",
    "damerau_scaled = scaler.fit_transform(damerau_values)\n",
    "\n",
    "train['norm_damerau'] = damerau_scaled"
   ]
  },
  {
   "cell_type": "code",
   "execution_count": 35,
   "metadata": {},
   "outputs": [
    {
     "data": {
      "image/png": "[encoded data removed]",
      "text/plain": [
       "<Figure size 1440x1440 with 6 Axes>"
      ]
     },
     "metadata": {
      "needs_background": "light"
     },
     "output_type": "display_data"
    }
   ],
   "source": [
    "fig, axes = plt.subplots(3, 2, figsize=(20,20))\n",
    "\n",
    "ax = sns.boxplot(x=\"is_duplicate\", y=\"norm_levenstein\", data=train, orient='v', ax=axes[0, 0])\n",
    "ax = sns.boxplot(x=\"is_duplicate\", y=\"damerau\", data=train, orient='v', ax=axes[0, 1])\n",
    "ax = sns.boxplot(x=\"is_duplicate\", y=\"two_ngram\", data=train, orient='v', ax=axes[1, 0])\n",
    "ax = sns.boxplot(x=\"is_duplicate\", y=\"jaccard\", data=train, orient='v', ax=axes[1, 1])\n",
    "ax = sns.boxplot(x=\"is_duplicate\", y=\"seq_match\", data=train, orient='v', ax=axes[2, 0])\n",
    "ax = sns.boxplot(x=\"is_duplicate\", y=\"norm_damerau\", data=train, orient='v', ax=axes[2, 1])"
   ]
  },
  {
   "cell_type": "markdown",
   "metadata": {},
   "source": [
    "From EDA could be infered that two classes are supposed to be separable, maybe additional features and feature engineering would moreover improve target score"
   ]
  },
  {
   "cell_type": "markdown",
   "metadata": {},
   "source": [
    "## Balance Classes"
   ]
  },
  {
   "cell_type": "markdown",
   "metadata": {},
   "source": [
    "Sample of code, to balance classes by downsampling majority class. But won't work in a real world problem. But still it may be possible to downsample garbage samples of 0 class, and to use data augmentation for the 1 class."
   ]
  },
  {
   "cell_type": "code",
   "execution_count": 36,
   "metadata": {},
   "outputs": [
    {
     "data": {
      "text/plain": [
       "1    3708\n",
       "0    3658\n",
       "Name: is_duplicate, dtype: int64"
      ]
     },
     "execution_count": 36,
     "metadata": {},
     "output_type": "execute_result"
    }
   ],
   "source": [
    "from sklearn.utils import resample\n",
    "\n",
    "df_majority = train[train.is_duplicate==0]\n",
    "df_minority = train[train.is_duplicate==1]\n",
    "\n",
    "df_majority_downsampled = resample(df_majority, \n",
    "                                 replace=False,    # sample without replacement\n",
    "                                 n_samples=3658,     # to match minority class\n",
    "                                 random_state=123) # reproducible results\n",
    " \n",
    "# Combine minority class with downsampled majority class\n",
    "df_downsampled = pd.concat([df_majority_downsampled, df_minority])\n",
    " \n",
    "# Display new class counts\n",
    "df_downsampled.is_duplicate.value_counts()"
   ]
  },
  {
   "cell_type": "markdown",
   "metadata": {},
   "source": [
    "## Baseline Model"
   ]
  },
  {
   "cell_type": "markdown",
   "metadata": {},
   "source": [
    "#### LogisticRegression"
   ]
  },
  {
   "cell_type": "code",
   "execution_count": 37,
   "metadata": {},
   "outputs": [],
   "source": [
    "from sklearn.metrics import f1_score"
   ]
  },
  {
   "cell_type": "code",
   "execution_count": 38,
   "metadata": {},
   "outputs": [],
   "source": [
    "features = ['norm_levenstein', 'damerau', 'two_ngram', 'jaccard', 'seq_match']\n",
    "THR = 0.9"
   ]
  },
  {
   "cell_type": "code",
   "execution_count": 39,
   "metadata": {},
   "outputs": [],
   "source": [
    "split = StratifiedShuffleSplit(1, train_size=0.8, random_state=0)\n",
    "tridx, cvidx = list(split.split(train[features], train[\"is_duplicate\"]))[0]"
   ]
  },
  {
   "cell_type": "code",
   "execution_count": 40,
   "metadata": {},
   "outputs": [
    {
     "name": "stdout",
     "output_type": "stream",
     "text": [
      "CPU times: user 7.35 s, sys: 3.68 s, total: 11 s\n",
      "Wall time: 3.4 s\n"
     ]
    },
    {
     "data": {
      "text/plain": [
       "LogisticRegression(class_weight='balanced', random_state=0)"
      ]
     },
     "execution_count": 40,
     "metadata": {},
     "output_type": "execute_result"
    }
   ],
   "source": [
    "%%time\n",
    "\n",
    "model = LogisticRegression(class_weight=\"balanced\", random_state=0)\n",
    "model.fit(train.iloc[tridx][features].values,\n",
    "          train.iloc[tridx][\"is_duplicate\"].values)"
   ]
  },
  {
   "cell_type": "code",
   "execution_count": 41,
   "metadata": {},
   "outputs": [
    {
     "name": "stdout",
     "output_type": "stream",
     "text": [
      "CPU times: user 277 ms, sys: 72.2 ms, total: 349 ms\n",
      "Wall time: 175 ms\n"
     ]
    }
   ],
   "source": [
    "%%time\n",
    "\n",
    "tr_preds = model.predict_proba(train.iloc[tridx][features].values)\n",
    "cv_preds = model.predict_proba(train.iloc[cvidx][features].values)"
   ]
  },
  {
   "cell_type": "code",
   "execution_count": 42,
   "metadata": {},
   "outputs": [],
   "source": [
    "tr_preds = (tr_preds[:, 1] > THR).astype(np.int)\n",
    "cv_preds = (cv_preds[:, 1] > THR).astype(np.int)"
   ]
  },
  {
   "cell_type": "code",
   "execution_count": 43,
   "metadata": {},
   "outputs": [
    {
     "name": "stdout",
     "output_type": "stream",
     "text": [
      "0.2787210982658959\n",
      "0.29353932584269665\n"
     ]
    }
   ],
   "source": [
    "print(f1_score(train.iloc[tridx][\"is_duplicate\"].values, tr_preds))\n",
    "print(f1_score(train.iloc[cvidx][\"is_duplicate\"].values, cv_preds))"
   ]
  },
  {
   "cell_type": "code",
   "execution_count": 44,
   "metadata": {},
   "outputs": [
    {
     "name": "stdout",
     "output_type": "stream",
     "text": [
      "              precision    recall  f1-score   support\n",
      "\n",
      "           0       1.00      0.98      0.99     91148\n",
      "           1       0.20      0.56      0.29       742\n",
      "\n",
      "    accuracy                           0.98     91890\n",
      "   macro avg       0.60      0.77      0.64     91890\n",
      "weighted avg       0.99      0.98      0.98     91890\n",
      "\n"
     ]
    }
   ],
   "source": [
    "print(classification_report(train.iloc[cvidx][\"is_duplicate\"].values, cv_preds))"
   ]
  },
  {
   "cell_type": "markdown",
   "metadata": {},
   "source": [
    "#### Random Forest"
   ]
  },
  {
   "cell_type": "code",
   "execution_count": 45,
   "metadata": {},
   "outputs": [
    {
     "name": "stdout",
     "output_type": "stream",
     "text": [
      "CPU times: user 59.2 s, sys: 31.4 ms, total: 59.3 s\n",
      "Wall time: 59.4 s\n"
     ]
    }
   ],
   "source": [
    "%%time\n",
    "\n",
    "from sklearn.ensemble import RandomForestClassifier\n",
    "\n",
    "clf_rf = RandomForestClassifier(n_estimators=100, random_state=0)\n",
    "\n",
    "clf_rf.fit(train.iloc[tridx][features].values,\n",
    "          train.iloc[tridx][\"is_duplicate\"].values)\n",
    "\n",
    "tr_preds = clf_rf.predict_proba(train.iloc[tridx][features].values)\n",
    "cv_preds = clf_rf.predict_proba(train.iloc[cvidx][features].values)\n",
    "\n",
    "tr_preds = (tr_preds[:, 1] > THR).astype(np.int)\n",
    "cv_preds = (cv_preds[:, 1] > THR).astype(np.int)"
   ]
  },
  {
   "cell_type": "code",
   "execution_count": 46,
   "metadata": {},
   "outputs": [
    {
     "name": "stdout",
     "output_type": "stream",
     "text": [
      "0.435836627140975\n",
      "0.31096196868008946\n"
     ]
    }
   ],
   "source": [
    "print(f1_score(train.iloc[tridx][\"is_duplicate\"].values, tr_preds))\n",
    "print(f1_score(train.iloc[cvidx][\"is_duplicate\"].values, cv_preds))"
   ]
  },
  {
   "cell_type": "code",
   "execution_count": 47,
   "metadata": {},
   "outputs": [
    {
     "name": "stdout",
     "output_type": "stream",
     "text": [
      "              precision    recall  f1-score   support\n",
      "\n",
      "           0       0.99      1.00      1.00     91148\n",
      "           1       0.91      0.19      0.31       742\n",
      "\n",
      "    accuracy                           0.99     91890\n",
      "   macro avg       0.95      0.59      0.65     91890\n",
      "weighted avg       0.99      0.99      0.99     91890\n",
      "\n"
     ]
    }
   ],
   "source": [
    "print(classification_report(train.iloc[cvidx][\"is_duplicate\"].values, cv_preds))"
   ]
  },
  {
   "cell_type": "markdown",
   "metadata": {},
   "source": [
    "#### XGBoost Classifier"
   ]
  },
  {
   "cell_type": "code",
   "execution_count": 48,
   "metadata": {},
   "outputs": [
    {
     "name": "stdout",
     "output_type": "stream",
     "text": [
      "CPU times: user 47.8 s, sys: 171 ms, total: 48 s\n",
      "Wall time: 16.2 s\n"
     ]
    }
   ],
   "source": [
    "%%time\n",
    "\n",
    "from xgboost import XGBClassifier\n",
    "\n",
    "clf_xgb = XGBClassifier(random_state=0)\n",
    "\n",
    "clf_xgb.fit(train.iloc[tridx][features].values,\n",
    "          train.iloc[tridx][\"is_duplicate\"].values)\n",
    "\n",
    "tr_preds = clf_xgb.predict(train.iloc[tridx][features].values)\n",
    "cv_preds = clf_xgb.predict(train.iloc[cvidx][features].values)"
   ]
  },
  {
   "cell_type": "code",
   "execution_count": 49,
   "metadata": {},
   "outputs": [
    {
     "name": "stdout",
     "output_type": "stream",
     "text": [
      "0.6396490495090871\n",
      "0.5585429314830876\n"
     ]
    }
   ],
   "source": [
    "print(f1_score(train.iloc[tridx][\"is_duplicate\"].values, tr_preds))\n",
    "print(f1_score(train.iloc[cvidx][\"is_duplicate\"].values, cv_preds))"
   ]
  },
  {
   "cell_type": "code",
   "execution_count": 50,
   "metadata": {},
   "outputs": [
    {
     "name": "stdout",
     "output_type": "stream",
     "text": [
      "              precision    recall  f1-score   support\n",
      "\n",
      "           0       1.00      1.00      1.00     91148\n",
      "           1       0.78      0.43      0.56       742\n",
      "\n",
      "    accuracy                           0.99     91890\n",
      "   macro avg       0.89      0.72      0.78     91890\n",
      "weighted avg       0.99      0.99      0.99     91890\n",
      "\n"
     ]
    }
   ],
   "source": [
    "print(classification_report(train.iloc[cvidx][\"is_duplicate\"].values, cv_preds))"
   ]
  },
  {
   "cell_type": "markdown",
   "metadata": {},
   "source": [
    "#### LigtGBM Classifier"
   ]
  },
  {
   "cell_type": "code",
   "execution_count": 51,
   "metadata": {},
   "outputs": [
    {
     "name": "stdout",
     "output_type": "stream",
     "text": [
      "CPU times: user 9.84 s, sys: 67.4 ms, total: 9.91 s\n",
      "Wall time: 3.71 s\n"
     ]
    }
   ],
   "source": [
    "%%time\n",
    "\n",
    "from lightgbm import LGBMClassifier\n",
    "\n",
    "clf_lgbm = LGBMClassifier(random_state=0)\n",
    "\n",
    "clf_lgbm.fit(train.iloc[tridx][features].values,\n",
    "          train.iloc[tridx][\"is_duplicate\"].values)\n",
    "\n",
    "tr_preds = clf_lgbm.predict(train.iloc[tridx][features].values)\n",
    "cv_preds = clf_lgbm.predict(train.iloc[cvidx][features].values)"
   ]
  },
  {
   "cell_type": "code",
   "execution_count": 52,
   "metadata": {},
   "outputs": [
    {
     "name": "stdout",
     "output_type": "stream",
     "text": [
      "0.49452201933404943\n",
      "0.42132416165090286\n"
     ]
    }
   ],
   "source": [
    "print(f1_score(train.iloc[tridx][\"is_duplicate\"].values, tr_preds))\n",
    "print(f1_score(train.iloc[cvidx][\"is_duplicate\"].values, cv_preds))"
   ]
  },
  {
   "cell_type": "code",
   "execution_count": 53,
   "metadata": {},
   "outputs": [
    {
     "name": "stdout",
     "output_type": "stream",
     "text": [
      "              precision    recall  f1-score   support\n",
      "\n",
      "           0       0.99      1.00      1.00     91148\n",
      "           1       0.58      0.33      0.42       742\n",
      "\n",
      "    accuracy                           0.99     91890\n",
      "   macro avg       0.79      0.66      0.71     91890\n",
      "weighted avg       0.99      0.99      0.99     91890\n",
      "\n"
     ]
    }
   ],
   "source": [
    "print(classification_report(train.iloc[cvidx][\"is_duplicate\"].values, cv_preds))"
   ]
  },
  {
   "cell_type": "markdown",
   "metadata": {},
   "source": [
    "After a bunch of models comparaison, XGBoost was determined to be best base model for hyperparameter tuning and improving baseline Logistic Regression solution"
   ]
  },
  {
   "cell_type": "markdown",
   "metadata": {},
   "source": [
    "## Models"
   ]
  },
  {
   "cell_type": "markdown",
   "metadata": {},
   "source": [
    "### XGBoost Classifier GridSearch Model (Hyperparameter tuning)"
   ]
  },
  {
   "cell_type": "markdown",
   "metadata": {},
   "source": [
    "XGBoost score and parameters could be improved by Grid Search and Cross Validation, but it is a costly operation due to large train size"
   ]
  },
  {
   "cell_type": "code",
   "execution_count": 54,
   "metadata": {},
   "outputs": [
    {
     "name": "stdout",
     "output_type": "stream",
     "text": [
      "Fitting 3 folds for each of 6 candidates, totalling 18 fits\n"
     ]
    },
    {
     "name": "stderr",
     "output_type": "stream",
     "text": [
      "[Parallel(n_jobs=4)]: Using backend LokyBackend with 4 concurrent workers.\n",
      "[Parallel(n_jobs=4)]: Done  18 out of  18 | elapsed: 12.5min finished\n"
     ]
    },
    {
     "name": "stdout",
     "output_type": "stream",
     "text": [
      "CPU times: user 3min 14s, sys: 855 ms, total: 3min 15s\n",
      "Wall time: 13min 30s\n"
     ]
    },
    {
     "data": {
      "text/plain": [
       "(0.5862661510280366, {'learning_rate': 0.1})"
      ]
     },
     "execution_count": 54,
     "metadata": {},
     "output_type": "execute_result"
    }
   ],
   "source": [
    "%%time\n",
    "\n",
    "from sklearn.model_selection import GridSearchCV\n",
    "\n",
    "clf = XGBClassifier(scale_pos_weight=1, random_state=0, n_estimators=250, max_depth=9, subsample=0.85, reg_lambda=1,\n",
    "                   learning_rate=0.1)\n",
    "\n",
    "grid = {'learning_rate': [0.001, 0.005, 0.01, 0.03, 0.05, 0.1]}\n",
    "\n",
    "grid_clf = GridSearchCV(clf, grid, \n",
    "                    verbose=True, \n",
    "                    scoring='f1', cv=3, n_jobs=4)\n",
    "\n",
    "grid_clf.fit(train.iloc[tridx][features].values,\n",
    "          train.iloc[tridx][\"is_duplicate\"].values)\n",
    "\n",
    "grid_clf.best_score_, grid_clf.best_params_"
   ]
  },
  {
   "cell_type": "code",
   "execution_count": 55,
   "metadata": {},
   "outputs": [
    {
     "name": "stdout",
     "output_type": "stream",
     "text": [
      "CPU times: user 3min 11s, sys: 359 ms, total: 3min 12s\n",
      "Wall time: 51.8 s\n"
     ]
    }
   ],
   "source": [
    "%%time\n",
    "\n",
    "clf = XGBClassifier(scale_pos_weight=1, n_estimators=250, max_depth=9, subsample=0.85, reg_lambda=1,\n",
    "                   learning_rate=0.1)\n",
    "\n",
    "clf.fit(train.iloc[tridx][features].values,\n",
    "          train.iloc[tridx][\"is_duplicate\"].values)\n",
    "\n",
    "tr_preds = clf.predict(train.iloc[tridx][features].values)\n",
    "cv_preds = clf.predict(train.iloc[cvidx][features].values)"
   ]
  },
  {
   "cell_type": "code",
   "execution_count": 56,
   "metadata": {},
   "outputs": [
    {
     "name": "stdout",
     "output_type": "stream",
     "text": [
      "0.744429374152296\n",
      "0.6185397867104185\n"
     ]
    }
   ],
   "source": [
    "print(f1_score(train.iloc[tridx][\"is_duplicate\"].values, tr_preds))\n",
    "print(f1_score(train.iloc[cvidx][\"is_duplicate\"].values, cv_preds))"
   ]
  },
  {
   "cell_type": "code",
   "execution_count": 57,
   "metadata": {},
   "outputs": [
    {
     "name": "stdout",
     "output_type": "stream",
     "text": [
      "              precision    recall  f1-score   support\n",
      "\n",
      "           0       1.00      1.00      1.00     91148\n",
      "           1       0.79      0.51      0.62       742\n",
      "\n",
      "    accuracy                           0.99     91890\n",
      "   macro avg       0.89      0.75      0.81     91890\n",
      "weighted avg       0.99      0.99      0.99     91890\n",
      "\n"
     ]
    }
   ],
   "source": [
    "print(classification_report(train.iloc[cvidx][\"is_duplicate\"].values, cv_preds))"
   ]
  },
  {
   "cell_type": "code",
   "execution_count": 58,
   "metadata": {},
   "outputs": [
    {
     "data": {
      "image/png": "[encoded data removed]",
      "text/plain": [
       "<Figure size 576x396 with 1 Axes>"
      ]
     },
     "metadata": {},
     "output_type": "display_data"
    }
   ],
   "source": [
    "from yellowbrick.model_selection import FeatureImportances\n",
    "\n",
    "viz = FeatureImportances(clf)\n",
    "viz.fit(train.iloc[tridx][features].values,\n",
    "          train.iloc[tridx][\"is_duplicate\"].values)\n",
    "viz.show()\n",
    "plt.show()"
   ]
  },
  {
   "cell_type": "code",
   "execution_count": 59,
   "metadata": {},
   "outputs": [
    {
     "data": {
      "text/html": [
       "<div>\n",
       "<style scoped>\n",
       "    .dataframe tbody tr th:only-of-type {\n",
       "        vertical-align: middle;\n",
       "    }\n",
       "\n",
       "    .dataframe tbody tr th {\n",
       "        vertical-align: top;\n",
       "    }\n",
       "\n",
       "    .dataframe thead th {\n",
       "        text-align: right;\n",
       "    }\n",
       "</style>\n",
       "<table border=\"1\" class=\"dataframe\">\n",
       "  <thead>\n",
       "    <tr style=\"text-align: right;\">\n",
       "      <th></th>\n",
       "      <th>norm_levenstein</th>\n",
       "      <th>damerau</th>\n",
       "      <th>two_ngram</th>\n",
       "      <th>jaccard</th>\n",
       "      <th>seq_match</th>\n",
       "    </tr>\n",
       "  </thead>\n",
       "  <tbody>\n",
       "    <tr>\n",
       "      <th>norm_levenstein</th>\n",
       "      <td>1.000000</td>\n",
       "      <td>0.534430</td>\n",
       "      <td>0.506050</td>\n",
       "      <td>-0.688763</td>\n",
       "      <td>-0.946747</td>\n",
       "    </tr>\n",
       "    <tr>\n",
       "      <th>damerau</th>\n",
       "      <td>0.534430</td>\n",
       "      <td>1.000000</td>\n",
       "      <td>0.253308</td>\n",
       "      <td>-0.298672</td>\n",
       "      <td>-0.530814</td>\n",
       "    </tr>\n",
       "    <tr>\n",
       "      <th>two_ngram</th>\n",
       "      <td>0.506050</td>\n",
       "      <td>0.253308</td>\n",
       "      <td>1.000000</td>\n",
       "      <td>-0.444227</td>\n",
       "      <td>-0.440870</td>\n",
       "    </tr>\n",
       "    <tr>\n",
       "      <th>jaccard</th>\n",
       "      <td>-0.688763</td>\n",
       "      <td>-0.298672</td>\n",
       "      <td>-0.444227</td>\n",
       "      <td>1.000000</td>\n",
       "      <td>0.668412</td>\n",
       "    </tr>\n",
       "    <tr>\n",
       "      <th>seq_match</th>\n",
       "      <td>-0.946747</td>\n",
       "      <td>-0.530814</td>\n",
       "      <td>-0.440870</td>\n",
       "      <td>0.668412</td>\n",
       "      <td>1.000000</td>\n",
       "    </tr>\n",
       "  </tbody>\n",
       "</table>\n",
       "</div>"
      ],
      "text/plain": [
       "                 norm_levenstein   damerau  two_ngram   jaccard  seq_match\n",
       "norm_levenstein         1.000000  0.534430   0.506050 -0.688763  -0.946747\n",
       "damerau                 0.534430  1.000000   0.253308 -0.298672  -0.530814\n",
       "two_ngram               0.506050  0.253308   1.000000 -0.444227  -0.440870\n",
       "jaccard                -0.688763 -0.298672  -0.444227  1.000000   0.668412\n",
       "seq_match              -0.946747 -0.530814  -0.440870  0.668412   1.000000"
      ]
     },
     "execution_count": 59,
     "metadata": {},
     "output_type": "execute_result"
    }
   ],
   "source": [
    "train[features].corr()"
   ]
  },
  {
   "cell_type": "code",
   "execution_count": 60,
   "metadata": {},
   "outputs": [
    {
     "data": {
      "text/plain": [
       "<AxesSubplot:>"
      ]
     },
     "execution_count": 60,
     "metadata": {},
     "output_type": "execute_result"
    },
    {
     "data": {
      "image/png": "[encoded data removed]",
      "text/plain": [
       "<Figure size 576x396 with 2 Axes>"
      ]
     },
     "metadata": {},
     "output_type": "display_data"
    }
   ],
   "source": [
    "sns.heatmap(train[features].corr())"
   ]
  },
  {
   "cell_type": "markdown",
   "metadata": {},
   "source": [
    "Linear models are susceptible for **multicollinearity** ( (almost) linear dependant features), but Ensemble models on Decision Trees work well without eradicating multicollinearity"
   ]
  },
  {
   "cell_type": "markdown",
   "metadata": {},
   "source": [
    "## Submission"
   ]
  },
  {
   "cell_type": "code",
   "execution_count": 62,
   "metadata": {},
   "outputs": [
    {
     "data": {
      "text/html": [
       "<div>\n",
       "<style scoped>\n",
       "    .dataframe tbody tr th:only-of-type {\n",
       "        vertical-align: middle;\n",
       "    }\n",
       "\n",
       "    .dataframe tbody tr th {\n",
       "        vertical-align: top;\n",
       "    }\n",
       "\n",
       "    .dataframe thead th {\n",
       "        text-align: right;\n",
       "    }\n",
       "</style>\n",
       "<table border=\"1\" class=\"dataframe\">\n",
       "  <thead>\n",
       "    <tr style=\"text-align: right;\">\n",
       "      <th></th>\n",
       "      <th>is_duplicate</th>\n",
       "    </tr>\n",
       "    <tr>\n",
       "      <th>pair_id</th>\n",
       "      <th></th>\n",
       "    </tr>\n",
       "  </thead>\n",
       "  <tbody>\n",
       "    <tr>\n",
       "      <th>1</th>\n",
       "      <td>1</td>\n",
       "    </tr>\n",
       "    <tr>\n",
       "      <th>2</th>\n",
       "      <td>1</td>\n",
       "    </tr>\n",
       "    <tr>\n",
       "      <th>3</th>\n",
       "      <td>1</td>\n",
       "    </tr>\n",
       "    <tr>\n",
       "      <th>4</th>\n",
       "      <td>1</td>\n",
       "    </tr>\n",
       "    <tr>\n",
       "      <th>5</th>\n",
       "      <td>1</td>\n",
       "    </tr>\n",
       "  </tbody>\n",
       "</table>\n",
       "</div>"
      ],
      "text/plain": [
       "         is_duplicate\n",
       "pair_id              \n",
       "1                   1\n",
       "2                   1\n",
       "3                   1\n",
       "4                   1\n",
       "5                   1"
      ]
     },
     "execution_count": 62,
     "metadata": {},
     "output_type": "execute_result"
    }
   ],
   "source": [
    "sample_sub = pd.read_csv('data/sample_submission.csv', index_col='pair_id')\n",
    "sample_sub.head()"
   ]
  },
  {
   "cell_type": "code",
   "execution_count": 63,
   "metadata": {},
   "outputs": [],
   "source": [
    "sample_sub['is_duplicate'] = clf.predict(test[features].values).astype(np.int)"
   ]
  },
  {
   "cell_type": "code",
   "execution_count": 64,
   "metadata": {},
   "outputs": [],
   "source": [
    "sample_sub.to_csv('submission.csv')"
   ]
  },
  {
   "cell_type": "code",
   "execution_count": 65,
   "metadata": {},
   "outputs": [
    {
     "data": {
      "text/html": [
       "<div>\n",
       "<style scoped>\n",
       "    .dataframe tbody tr th:only-of-type {\n",
       "        vertical-align: middle;\n",
       "    }\n",
       "\n",
       "    .dataframe tbody tr th {\n",
       "        vertical-align: top;\n",
       "    }\n",
       "\n",
       "    .dataframe thead th {\n",
       "        text-align: right;\n",
       "    }\n",
       "</style>\n",
       "<table border=\"1\" class=\"dataframe\">\n",
       "  <thead>\n",
       "    <tr style=\"text-align: right;\">\n",
       "      <th></th>\n",
       "      <th>is_duplicate</th>\n",
       "    </tr>\n",
       "    <tr>\n",
       "      <th>pair_id</th>\n",
       "      <th></th>\n",
       "    </tr>\n",
       "  </thead>\n",
       "  <tbody>\n",
       "    <tr>\n",
       "      <th>1</th>\n",
       "      <td>0</td>\n",
       "    </tr>\n",
       "    <tr>\n",
       "      <th>2</th>\n",
       "      <td>0</td>\n",
       "    </tr>\n",
       "    <tr>\n",
       "      <th>3</th>\n",
       "      <td>0</td>\n",
       "    </tr>\n",
       "    <tr>\n",
       "      <th>4</th>\n",
       "      <td>0</td>\n",
       "    </tr>\n",
       "    <tr>\n",
       "      <th>5</th>\n",
       "      <td>0</td>\n",
       "    </tr>\n",
       "  </tbody>\n",
       "</table>\n",
       "</div>"
      ],
      "text/plain": [
       "         is_duplicate\n",
       "pair_id              \n",
       "1                   0\n",
       "2                   0\n",
       "3                   0\n",
       "4                   0\n",
       "5                   0"
      ]
     },
     "execution_count": 65,
     "metadata": {},
     "output_type": "execute_result"
    }
   ],
   "source": [
    "my_submission = pd.read_csv('submission.csv', index_col='pair_id')\n",
    "my_submission.head()"
   ]
  },
  {
   "cell_type": "code",
   "execution_count": 66,
   "metadata": {},
   "outputs": [
    {
     "data": {
      "text/plain": [
       "0    212727\n",
       "1       522\n",
       "Name: is_duplicate, dtype: int64"
      ]
     },
     "execution_count": 66,
     "metadata": {},
     "output_type": "execute_result"
    }
   ],
   "source": [
    "my_submission.is_duplicate.value_counts()"
   ]
  },
  {
   "cell_type": "markdown",
   "metadata": {},
   "source": [
    "XGBoost submission has found **522 instances of class 1** on test dataset, which correspond to **~ 0.35 score (F1)** on public leaderboard"
   ]
  }
 ],
 "metadata": {
  "kernelspec": {
   "display_name": "Python 3",
   "language": "python",
   "name": "python3"
  },
  "language_info": {
   "codemirror_mode": {
    "name": "ipython",
    "version": 3
   },
   "file_extension": ".py",
   "mimetype": "text/x-python",
   "name": "python",
   "nbconvert_exporter": "python",
   "pygments_lexer": "ipython3",
   "version": "3.8.5"
  }
 },
 "nbformat": 4,
 "nbformat_minor": 4
}
